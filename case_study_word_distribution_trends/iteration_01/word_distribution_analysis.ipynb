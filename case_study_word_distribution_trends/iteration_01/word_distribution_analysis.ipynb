{
 "cells": [
  {
   "cell_type": "markdown",
   "metadata": {},
   "source": [
    "# Iteration #1: Create word frequency distribution over years"
   ]
  },
  {
   "cell_type": "code",
   "execution_count": 91,
   "metadata": {},
   "outputs": [
    {
     "name": "stdout",
     "output_type": "stream",
     "text": [
      "The autoreload extension is already loaded. To reload it, use:\n",
      "  %reload_ext autoreload\n"
     ]
    }
   ],
   "source": [
    "%load_ext autoreload\n",
    "%autoreload 2\n",
    "import corpus_vectorizer\n",
    "import text_corpus\n",
    "import utility\n",
    "import numpy as np\n",
    "import sklearn"
   ]
  },
  {
   "cell_type": "markdown",
   "metadata": {},
   "source": [
    "# Helpers"
   ]
  },
  {
   "cell_type": "code",
   "execution_count": 131,
   "metadata": {},
   "outputs": [],
   "source": [
    "def create_corpus():\n",
    "    filename = '../data/test_corpus.zip'\n",
    "    meta_extract = dict(year=r\".{5}(\\d{4})\\_.*\", serial_no=\".{9}\\_(\\d+).*\")\n",
    "    reader = utility.TextFilesReader(filename, meta_extract=meta_extract, compress_whitespaces=True, dehyphen=True)\n",
    "    kwargs = dict(isalnum=False, to_lower=False, deacc=False, min_len=2, max_len=None, numerals=False)\n",
    "    corpus = text_corpus.ProcessedCorpus(reader, **kwargs)\n",
    "    return corpus\n",
    "\n",
    "def sum_by_year(X, df):\n",
    "    # df.groupby(['year']).apply(lambda x: x.index.tolist()).to_dict()\n",
    "    min_value, max_value = df.year.min(), df.year.max()\n",
    "\n",
    "    Y = np.zeros(((max_value - min_value) + 1, X.shape[1]))\n",
    "\n",
    "    for i in range(0, Y.shape[0]):\n",
    "\n",
    "        indices = list((df.loc[df.year == min_value + i].index))\n",
    "        if len(indices) > 0:\n",
    "            Y[i,:] = X[indices,:].sum(axis=0)\n",
    "\n",
    "    return Y\n",
    "\n",
    "def normalize(X):\n",
    "    Xn = sklearn.preprocessing.normalize(X, axis=1, norm='l1')\n",
    "    return Xn\n",
    "\n",
    "def tokens_above_threshold(vectorizer, threshold):\n",
    "    words = {\n",
    "        w: c for w,c in vectorizer.word_counts.items() if c >= threshold\n",
    "    }\n",
    "    return words\n",
    "\n",
    "def token_ids_above_threshold(vectorizer, threshold):\n",
    "    ids = [\n",
    "        vectorizer.vocabulary[w] for w in tokens_above_threshold(vectorizer, threshold).keys()\n",
    "    ]\n",
    "    return ids"
   ]
  },
  {
   "cell_type": "markdown",
   "metadata": {},
   "source": [
    "# Analysis\n",
    "https://github.com/davidmcclure/lint-analysis/tree/master/notebooks/2017\n"
   ]
  },
  {
   "cell_type": "markdown",
   "metadata": {},
   "source": [
    "## Goodness-of-fit to uniform distribution (chi-square)\n",
    "\n",
    "See [scipy.stats.chisquare](https://docs.scipy.org/doc/scipy/reference/generated/scipy.stats.chisquare.html): \n",
    "*When just f_obs is given, it is assumed that the expected frequencies are uniform and given by the mean of the observed frequencies.*\n"
   ]
  },
  {
   "cell_type": "code",
   "execution_count": 132,
   "metadata": {},
   "outputs": [
    {
     "data": {
      "text/plain": [
       "Power_divergenceResult(statistic=array([0.03921569, 0.00355846, 0.00023847, 0.00023847, 0.00355846,\n",
       "       0.00909873, 0.03921569, 0.00023847, 0.02566845, 0.00909873,\n",
       "       0.00023847, 0.06666667, 0.06666667, 0.03333333, 0.03333333,\n",
       "       0.03333333, 0.03333333]), pvalue=array([0.84302198, 0.95243214, 0.98767908, 0.98767908, 0.95243214,\n",
       "       0.92400724, 0.84302198, 0.98767908, 0.87271269, 0.92400724,\n",
       "       0.98767908, 0.79625341, 0.79625341, 0.85513214, 0.85513214,\n",
       "       0.85513214, 0.85513214]))"
      ]
     },
     "execution_count": 132,
     "metadata": {},
     "output_type": "execute_result"
    }
   ],
   "source": [
    "import numpy as np\n",
    "from scipy import stats\n",
    "\n",
    "vectorizer = CorpusVectorizer()\n",
    "X = vectorizer.fit_transform(create_corpus())\n",
    "Y = sum_by_year(X, vectorizer.document_index)\n",
    "\n",
    "Yn = sklearn.preprocessing.normalize(Y, axis=1, norm='l1') \n",
    "\n",
    "tokens_of_interest = list(tokens_above_threshold(vectorizer, 2).keys())\n",
    "indices = token_ids_above_threshold(vectorizer, 2)\n",
    "\n",
    "Ynw = Yn[:, indices]\n",
    "\n",
    "stats.chisquare(Ynw, f_exp=None, ddof=0, axis=0)\n"
   ]
  },
  {
   "cell_type": "markdown",
   "metadata": {},
   "source": [
    "# Ward Clustering\n",
    "\n",
    "See [this](https://stackabuse.com/hierarchical-clustering-with-python-and-scikit-learn/) tutorial.\n"
   ]
  },
  {
   "cell_type": "code",
   "execution_count": 102,
   "metadata": {},
   "outputs": [
    {
     "data": {
      "image/png": "[encoded data removed]",
      "text/plain": [
       "<Figure size 720x504 with 1 Axes>"
      ]
     },
     "metadata": {
      "needs_background": "light"
     },
     "output_type": "display_data"
    }
   ],
   "source": [
    "from scipy.cluster.hierarchy import dendrogram, linkage\n",
    "from matplotlib import pyplot as plt\n",
    "\n",
    "linked = linkage(Z.todense(), 'ward')\n",
    "\n",
    "labelList = tokens_of_interest\n",
    "\n",
    "plt.figure(figsize=(10, 7))\n",
    "dendrogram(linked, orientation='top', labels=labelList, distance_sort='descending', show_leaf_counts=True)\n",
    "plt.show()"
   ]
  },
  {
   "cell_type": "code",
   "execution_count": null,
   "metadata": {
    "lines_to_next_cell": 0
   },
   "outputs": [],
   "source": [
    "import unittest\n",
    "import text_corpus\n",
    "\n",
    "class Test_CorpusVectorizer(unittest.TestCase):\n",
    "    \n",
    "    def setUp(self):\n",
    "        pass\n",
    "    \n",
    "    def create_corpus(self):\n",
    "        filename = '../data/test_corpus.zip'\n",
    "        meta_extract = dict(year=r\".{5}(\\d{4})\\_.*\", serial_no=\".{9}\\_(\\d+).*\")\n",
    "        reader = utility.TextFilesReader(filename, meta_extract=meta_extract, compress_whitespaces=True, dehyphen=True)\n",
    "        kwargs = dict(isalnum=True, to_lower=True, deacc=False, min_len=2, max_len=None, numerals=False)\n",
    "        corpus = text_corpus.ProcessedCorpus(reader, **kwargs)\n",
    "        return corpus\n",
    "    \n",
    "    def test_fit_transform_(self):\n",
    "        corpus = self.create_corpus()\n",
    "        vectorizer = CorpusVectorizer()\n",
    "        vectorizer.fit_transform(corpus)\n",
    "        #print(vectorizer.vocabulary)\n",
    "        \n",
    "    def test_word_counts(self):\n",
    "        corpus = self.create_corpus()\n",
    "        vectorizer = CorpusVectorizer()\n",
    "        X = vectorizer.fit_transform(corpus)\n",
    "        word_counts = vectorizer.word_counts\n",
    "        print(word_counts)\n",
    "\n",
    "unittest.main(argv=['first-arg-is-ignored'], exit=False)\n"
   ]
  },
  {
   "cell_type": "markdown",
   "metadata": {},
   "source": [
    "Load saved data"
   ]
  },
  {
   "cell_type": "markdown",
   "metadata": {},
   "source": [
    "Find word with frequency > 10000"
   ]
  },
  {
   "cell_type": "code",
   "execution_count": null,
   "metadata": {},
   "outputs": [],
   "source": [
    "# df_Zy.sum().where(lambda x: x>= 10000).sort_values().dropna()"
   ]
  },
  {
   "cell_type": "markdown",
   "metadata": {},
   "source": [
    "Normalize to relative frequency"
   ]
  },
  {
   "cell_type": "code",
   "execution_count": null,
   "metadata": {
    "lines_to_next_cell": 0
   },
   "outputs": [],
   "source": [
    "#Xn = normalize(X, axis=1, norm='l1')\n",
    "#Y = collapse_to_year_matrix(X, df_documents)\n",
    "#df = pd.DataFrame(Y, columns=list(vectorizer.get_feature_names()))\n",
    "#df.to_excel('test.xlsx')\n",
    "\n",
    "if False:\n",
    "    df = pd.DataFrame(X.toarray(), columns=list(vectorizer.get_feature_names()))\n",
    "    df['year'] = df.index + 45\n",
    "    df = df.set_index('year')\n",
    "    df['year'] =  pd.Series(df.index).apply(lambda x: documents[x][0])\n",
    "    %matplotlib inline\n",
    "    df[['krig']].plot() #.loc[df[\"000\"]==49]\n"
   ]
  },
  {
   "cell_type": "markdown",
   "metadata": {
    "lines_to_next_cell": 2
   },
   "source": []
  }
 ],
 "metadata": {
  "jupytext": {
   "formats": "ipynb,py,md"
  },
  "kernelspec": {
   "display_name": "Python 3",
   "language": "python",
   "name": "python3"
  },
  "language_info": {
   "codemirror_mode": {
    "name": "ipython",
    "version": 3
   },
   "file_extension": ".py",
   "mimetype": "text/x-python",
   "name": "python",
   "nbconvert_exporter": "python",
   "pygments_lexer": "ipython3",
   "version": "3.7.3"
  }
 },
 "nbformat": 4,
 "nbformat_minor": 4
}

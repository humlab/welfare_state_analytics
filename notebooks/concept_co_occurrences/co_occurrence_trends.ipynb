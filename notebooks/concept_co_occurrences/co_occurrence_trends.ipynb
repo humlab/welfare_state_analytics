{
 "cells": [
  {
   "cell_type": "markdown",
   "metadata": {},
   "source": [
    "## Concept Context Co-Occurrences Analysis"
   ]
  },
  {
   "cell_type": "code",
   "execution_count": null,
   "metadata": {
    "tags": []
   },
   "outputs": [],
   "source": [
    "%load_ext autoreload\n",
    "%autoreload 2\n",
    "# pylint: disable=wrong-import-position, import-error\n",
    "\n",
    "import importlib\n",
    "import warnings\n",
    "\n",
    "import penelope.common.goodness_of_fit as gof\n",
    "import penelope.notebook.generate_concept_co_occurrences_gui as generate_concept_co_occurrences_gui\n",
    "import penelope.notebook.load_vectorized_corpus_gui as load_vectorized_corpus_gui\n",
    "import penelope.notebook.utility as notebook_utility\n",
    "import penelope.notebook.word_trend_plot_gui as word_trend_plot_gui\n",
    "from bokeh.plotting import output_notebook\n",
    "from penelope.corpus import VectorizedCorpus\n",
    "\n",
    "import __paths__\n",
    "import notebooks.common.ipyaggrid_utility as ipyaggrid_utility\n",
    "from notebooks.concept_co_occurrences.utils import display_as_grid\n",
    "\n",
    "warnings.filterwarnings(\"ignore\", category=FutureWarning)\n",
    "\n",
    "output_notebook()\n",
    "\n",
    "# hv.extension(\"bokeh\", logo=False)"
   ]
  },
  {
   "cell_type": "markdown",
   "metadata": {
    "lines_to_next_cell": 0
   },
   "source": [
    "## Generate a new vectorized corpus\n",
    "For long running tasks, please use the CLI `concept_co_occurrence` instead."
   ]
  },
  {
   "cell_type": "code",
   "execution_count": null,
   "metadata": {},
   "outputs": [],
   "source": [
    "\n",
    "generate_concept_co_occurrences_gui.display_gui(\n",
    "    '/data/westac', '*sparv4.csv.zip', generated_callback=None\n",
    ")"
   ]
  },
  {
   "cell_type": "markdown",
   "metadata": {
    "lines_to_next_cell": 0
   },
   "source": [
    "### Load vectorized corpus and compute deviation metrics\n",
    "Deviation metrics compares co-occurrences distribution to a uniform distribution"
   ]
  },
  {
   "cell_type": "code",
   "execution_count": null,
   "metadata": {
    "lines_to_next_cell": 0
   },
   "outputs": [],
   "source": [
    "importlib.reload(load_vectorized_corpus_gui)\n",
    "importlib.reload(ipyaggrid_utility)\n",
    "importlib.reload(notebook_utility)\n",
    "\n",
    "v_corpus = None\n",
    "df_gof = {}\n",
    "\n",
    "\n",
    "def load_succeeded(_v_corpus: VectorizedCorpus, _corpus_tag, output):\n",
    "\n",
    "    output.clear_output()\n",
    "    try:\n",
    "        global v_corpus, df_gof\n",
    "        v_corpus = _v_corpus\n",
    "        df_gof = gof.compute_goddness_of_fits_to_uniform(v_corpus, 10000, verbose=False)\n",
    "        df_most_deviating = gof.compile_most_deviating_words(df_gof, n_count=10000)\n",
    "\n",
    "        tab = notebook_utility.OutputsTabExt([\"GoF\", \"GoF (abs)\", \"Plots\", \"Slopes\"])\n",
    "        tab.display().display_fx_result(0, display_as_grid, df_gof).display_fx_result(\n",
    "            1, display_as_grid, df_most_deviating[['l2_norm_token', 'l2_norm', 'abs_l2_norm']]\n",
    "        ).display_fx_result(2, gof.plot_metrics, df_gof, plot=False, lazy=True).display_fx_result(\n",
    "            3, gof.plot_slopes, v_corpus, df_most_deviating, \"l2_norm\", 600, 600, plot=False, lazy=True\n",
    "        )\n",
    "\n",
    "    except Exception as ex:\n",
    "        with output:\n",
    "            print(ex)\n",
    "\n",
    "\n",
    "load_vectorized_corpus_gui.display_gui(\"/data/westac\", load_succeeded)"
   ]
  },
  {
   "cell_type": "code",
   "execution_count": null,
   "metadata": {
    "lines_to_next_cell": 2
   },
   "outputs": [],
   "source": [
    "import notebooks.concept_co_occurrences.word_trend_plot_gui as trend_plot_gui\n",
    "from IPython.display import display\n",
    "importlib.reload(trend_plot_gui)\n",
    "\n",
    "most_deviating = gof.get_most_deviating_words(df_gof, 'l2_norm', n_count=5000, ascending=False, abs_value=True)\n",
    "\n",
    "trend_plot_gui.display_gui(v_corpus, most_deviating)"
   ]
  },
  {
   "cell_type": "code",
   "execution_count": null,
   "metadata": {},
   "outputs": [],
   "source": [
    "#trend_plot_gui.QgridTokensSelector(most_deviating).widget\n",
    "\n",
    "trend_plot_gui.SelectMultipleTokensSelector(most_deviating).widget"
   ]
  },
  {
   "cell_type": "code",
   "execution_count": null,
   "metadata": {},
   "outputs": [],
   "source": []
  }
 ],
 "metadata": {
  "jupytext": {
   "encoding": "# -*- coding: utf-8 -*-",
   "formats": "ipynb,py:percent"
  },
  "kernelspec": {
   "display_name": "Python 3",
   "language": "python",
   "name": "python3"
  }
 },
 "nbformat": 4,
 "nbformat_minor": 4
}

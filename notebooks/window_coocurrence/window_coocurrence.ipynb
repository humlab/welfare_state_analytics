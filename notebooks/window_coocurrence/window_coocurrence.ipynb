{
 "cells": [
  {
   "cell_type": "code",
   "execution_count": null,
   "metadata": {
    "tags": []
   },
   "outputs": [],
   "source": [
    "%load_ext autoreload\n",
    "%autoreload 2\n",
    "\n",
    "# pylint: disable=wrong-import-position\n",
    "\n",
    "import os\n",
    "import sys\n",
    "\n",
    "import numpy as np\n",
    "import pandas as pd\n",
    "import scipy\n",
    "\n",
    "root_folder = os.getcwd().split(\"notebooks\")[0]\n",
    "sys.path = list(set(sys.path + [root_folder]))\n",
    "\n",
    "import penelope.corpus.readers as readers\n",
    "import penelope.corpus.tokenized_corpus as tokenized_corpus\n",
    "import penelope.corpus.vectorizer as corpus_vectorizer\n",
    "\n",
    "# df = pd.read_excel('./data/year+text_window.xlsx')\n",
    "# df.to_csv('./data/year+text_window.txt', sep='\\t')\n",
    "\n",
    "\n",
    "def compute_coocurrence_matrix(reader, **tokenize_opts):\n",
    "\n",
    "    corpus = tokenized_corpus.TokenizedCorpus(reader, only_alphanumeric=False, **tokenize_opts)\n",
    "    vectorizer = corpus_vectorizer.CorpusVectorizer(lowercase=False)\n",
    "    v_corpus = vectorizer.fit_transform(corpus)\n",
    "\n",
    "    term_term_matrix = np.dot(v_corpus.bag_term_matrix.T, v_corpus.bag_term_matrix)\n",
    "\n",
    "    term_term_matrix = scipy.sparse.triu(term_term_matrix, 1)\n",
    "\n",
    "    coo = term_term_matrix\n",
    "    cdf = (\n",
    "        pd.DataFrame({\"w1_id\": coo.row, \"w2_id\": coo.col, \"value\": coo.data})[[\"w1_id\", \"w2_id\", \"value\"]]\n",
    "        .sort_values([\"w1_id\", \"w2_id\"])\n",
    "        .reset_index(drop=True)\n",
    "    )\n",
    "    cdf[\"w1\"] = cdf.w1_id.apply(lambda x: v_corpus.id2token[x])\n",
    "    cdf[\"w2\"] = cdf.w2_id.apply(lambda x: v_corpus.id2token[x])\n",
    "\n",
    "    return cdf[[\"w1\", \"w2\", \"value\"]]\n",
    "\n",
    "\n",
    "def compute_co_ocurrence_for_periods(source_filename: str, periods, result_filename: str, **options):\n",
    "\n",
    "    df = pd.read_csv(source_filename, sep=\"\\t\")[[\"year\", \"txt\"]]\n",
    "\n",
    "    reader = readers.DataFrameTextTokenizer(df, column_filters={\"year\": periods})\n",
    "\n",
    "    options = {\n",
    "        **dict(\n",
    "            to_lower=True,\n",
    "            remove_accents=False,\n",
    "            min_len=1,\n",
    "            max_len=None,\n",
    "            keep_numerals=False,\n",
    "        ),\n",
    "        **options,\n",
    "    }\n",
    "\n",
    "    coo_df = compute_coocurrence_matrix(reader, **options)\n",
    "    coo_df.to_excel(result_filename)\n",
    "\n",
    "\n",
    "compute_co_ocurrence_for_periods(\"./data/year+text_window.txt\", 1957, \"test_1957.xlsx\")"
   ]
  }
 ],
 "metadata": {
  "jupytext": {
   "formats": "ipynb,py:percent",
   "main_language": "python"
  },
  "kernelspec": {
   "display_name": "Python 3.8.5 64-bit ('westac-O7wB9ikj-py3.8': venv)",
   "metadata": {
    "interpreter": {
     "hash": "22b1e31d3d5f905e8a7998fc3532ca535c806f75d42474f77651a5c803dd310a"
    }
   },
   "name": "Python 3.8.5 64-bit ('westac-O7wB9ikj-py3.8': venv)"
  }
 },
 "nbformat": 4,
 "nbformat_minor": 4
}

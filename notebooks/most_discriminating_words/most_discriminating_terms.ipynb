{
 "cells": [
  {
   "cell_type": "markdown",
   "metadata": {},
   "source": [
    "## Most Discriminating Terms"
   ]
  },
  {
   "cell_type": "code",
   "execution_count": null,
   "metadata": {},
   "outputs": [],
   "source": [
    "%load_ext autoreload\n",
    "%autoreload 2\n",
    "\n",
    "# pylint: disable=wrong-import-position\n",
    "# ---\n",
    "# jupyter:\n",
    "#   jupytext:\n",
    "#     formats: ipynb,py:percent\n",
    "#     text_representation:\n",
    "#       extension: .py\n",
    "#       format_name: percent\n",
    "#       format_version: '1.3'\n",
    "#       jupytext_version: 1.6.0\n",
    "#   kernelspec:\n",
    "#     display_name: Python 3\n",
    "#     language: python\n",
    "#     name: python3\n",
    "# ---"
   ]
  },
  {
   "cell_type": "markdown",
   "metadata": {},
   "source": [
    "## Most Discriminating Terms"
   ]
  },
  {
   "cell_type": "code",
   "execution_count": null,
   "metadata": {},
   "outputs": [],
   "source": [
    "%load_ext autoreload\n",
    "%autoreload 2\n",
    "\n",
    "# pylint: disable=wrong-import-position,unused-argument\n",
    "\n",
    "from IPython.display import display\n",
    "from ipywidgets import Output, VBox\n",
    "from penelope.corpus import dtm\n",
    "from penelope.notebook import ipyaggrid_utility\n",
    "from penelope.notebook.dtm import load_dtm_gui\n",
    "from penelope.notebook.mdw import create_mdw_gui\n",
    "\n",
    "import __paths__\n",
    "\n",
    "view_display, view_gui = Output(), Output()\n",
    "\n",
    "@view_display.capture(clear_output=True)\n",
    "def display_mdw(corpus: dtm.VectorizedCorpus, df_mdw):\n",
    "    g = ipyaggrid_utility.display_grid(df_mdw)\n",
    "    display(g)\n",
    "\n",
    "\n",
    "@view_gui.capture(clear_output=True)\n",
    "def loaded_callback(corpus: dtm.VectorizedCorpus, corpus_folder: str, corpus_tag: str):\n",
    "    mdw_gui = create_mdw_gui(corpus, done_callback=display_mdw)\n",
    "    display(mdw_gui.layout())\n",
    "\n",
    "\n",
    "gui = load_dtm_gui.create_load_gui(corpus_folder=__paths__.data_folder, loaded_callback=loaded_callback)\n",
    "\n",
    "display(gui.layout())\n",
    "display(VBox([view_gui, view_display]))"
   ]
  },
  {
   "cell_type": "code",
   "execution_count": null,
   "metadata": {},
   "outputs": [],
   "source": []
  }
 ],
 "metadata": {
  "jupytext": {
   "formats": "ipynb,py:percent"
  },
  "kernelspec": {
   "display_name": "Python 3",
   "language": "python",
   "name": "python3"
  }
 },
 "nbformat": 4,
 "nbformat_minor": 4
}

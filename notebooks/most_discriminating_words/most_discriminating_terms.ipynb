{
 "cells": [
  {
   "cell_type": "markdown",
   "metadata": {},
   "source": [
    "## Most Discriminating Terms"
   ]
  },
  {
   "cell_type": "code",
   "execution_count": null,
   "metadata": {},
   "outputs": [],
   "source": [
    "%load_ext autoreload\n",
    "%autoreload 2\n",
    "\n",
    "import sys, os\n",
    "\n",
    "root_folder = os.path.join(os.getcwd().split('welfare_state_analytics')[0], 'welfare_state_analytics')\n",
    "\n",
    "sys.path = list(set(sys.path + [ root_folder ]))\n",
    "\n",
    "corpus_folder = os.path.join(root_folder, \"output\")\n",
    "\n",
    "from beakerx import *\n",
    "from beakerx.object import beakerx\n",
    "from IPython.display import display\n",
    "\n",
    "import ipywidgets\n",
    "import westac.corpus.vectorized_corpus as vectorized_corpus\n"
   ]
  },
  {
   "cell_type": "code",
   "execution_count": null,
   "metadata": {},
   "outputs": [],
   "source": [
    "v_corpus = vectorized_corpus.VectorizedCorpus\\\n",
    "    .load('SOU_1945-1989_NN+VB+JJ_lemma_L0_+N_+S', corpus_folder)\\\n",
    "    .slice_by_n_count(10)\\\n",
    "    .slice_by_n_top(500000)"
   ]
  },
  {
   "cell_type": "code",
   "execution_count": null,
   "metadata": {},
   "outputs": [],
   "source": [
    "from notebooks.most_discriminating_words.most_discriminating_terms_gui import display_gui\n",
    "from penelope.common.most_discriminating_terms import compute_most_discriminating_terms\n",
    "\n",
    "display_gui(v_corpus, v_corpus.document_index, compute_callback=compute_most_discriminating_terms, display_callback=display_most_discriminating_terms);\n"
   ]
  }
 ],
 "metadata": {
  "kernelspec": {
   "display_name": "Python 3",
   "language": "python",
   "name": "python3"
  },
  "language_info": {
   "codemirror_mode": {
    "name": "ipython",
    "version": 3
   },
   "file_extension": ".py",
   "mimetype": "text/x-python",
   "name": "python",
   "nbconvert_exporter": "python",
   "pygments_lexer": "ipython3",
   "version": "3.7.5-final"
  }
 },
 "nbformat": 4,
 "nbformat_minor": 4
}
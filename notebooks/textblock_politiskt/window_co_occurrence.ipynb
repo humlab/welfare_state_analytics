{
 "cells": [
  {
   "cell_type": "code",
   "execution_count": null,
   "metadata": {
    "tags": []
   },
   "outputs": [],
   "source": [
    "%%capture\n",
    "%load_ext autoreload\n",
    "%autoreload 2\n",
    "\n",
    "# pylint: disable=wrong-import-position\n",
    "\n",
    "import os\n",
    "\n",
    "import __paths__  # pylint: disable=import-error, unused-import\n",
    "import pandas as pd\n",
    "from penelope.corpus.readers import DataFrameTextTokenizer\n",
    "from penelope.corpus import TokenizedCorpus\n",
    "\n",
    "root_folder = os.getcwd().split(\"notebooks\")[0]\n",
    "\n",
    "def create_corpus(source_filename: str, periods, result_filename: str, **options):\n",
    "\n",
    "    df = pd.read_csv(source_filename, sep=\"\\t\")[[\"year\", \"txt\"]]\n",
    "\n",
    "    reader = DataFrameTextTokenizer(df, column_filters={\"year\": periods})\n",
    "\n",
    "    tokenize_opts = {\n",
    "        **dict(\n",
    "            to_lower=True,\n",
    "            remove_accents=False,\n",
    "            min_len=1,\n",
    "            max_len=None,\n",
    "            keep_numerals=False,\n",
    "        ),\n",
    "        **options,\n",
    "    }\n",
    "    corpus = TokenizedCorpus(reader, only_alphanumeric=False, **tokenize_opts)\n",
    "    return corpus\n",
    "\n",
    "source_filename = \"./data/year+text_window.txt\"\n",
    "corpus = create_corpus(source_filename=source_filename, periods=1957, result_filename=\"test_1957.xlsx\")\n",
    "\n",
    "compute_co_ocurrence_for_periods(\"./data/year+text_window.txt\", 1957, \"test_1957.xlsx\")"
   ]
  },
  {
   "cell_type": "code",
   "execution_count": null,
   "metadata": {},
   "outputs": [],
   "source": []
  }
 ],
 "metadata": {
  "jupytext": {
   "formats": "ipynb,py:percent",
   "main_language": "python"
  },
  "kernelspec": {
   "display_name": "Python 3.8.5 64-bit ('westac-O7wB9ikj-py3.8': venv)",
   "metadata": {
    "interpreter": {
     "hash": "22b1e31d3d5f905e8a7998fc3532ca535c806f75d42474f77651a5c803dd310a"
    }
   },
   "name": "Python 3.8.5 64-bit ('westac-O7wB9ikj-py3.8': venv)"
  }
 },
 "nbformat": 4,
 "nbformat_minor": 4
}

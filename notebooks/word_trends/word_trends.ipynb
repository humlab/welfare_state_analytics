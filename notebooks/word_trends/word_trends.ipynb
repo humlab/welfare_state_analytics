{
 "cells": [
  {
   "cell_type": "markdown",
   "metadata": {},
   "source": [
    "# Prepare Riksdagens Protokoll for Text Analysis\n",
    "\n",
    "## Download Text from KB-LAB API (JSON)\n",
    "\n",
    "Use Python script `extract_json_text.py` to download `content.json` and `meta.json`. The script downloads queries packagers having \"protocoll\" tag (query `{ \"tags\": \"protokoll\" }`).\n",
    "\n",
    "```bash\n",
    "cd source/westac_data\n",
    "pipenv shell\n",
    "cd src/kb_labb\n",
    "nohup python download_protocol_content_json.py >& run.log &\n",
    "```\n",
    "\n",
    "The result is stored as a Zip archive.\n",
    "\n",
    "### Extract text from JSON and store as a corpus of individual text files\n",
    "\n",
    "Use the script `extract_json_text.py` to extract the text from the JSON files.\n",
    "\n",
    "```bash\n",
    "python extract_json_text.py --source-filename ~/tmp/riksdagens_protokoll_content.zip --target-filename ~/tmp/riksdagens_protokoll_content_corpus.zip\n",
    "```\n",
    "\n",
    "The resulting Zip file contains the text files named as `prot_yyyyyy__NN.txt`. One file per protocoll.\n",
    "\n",
    "### Vectorize the corpus to a BoW corpus (westac.VectorizedCorpus)\n",
    "\n",
    "Use the script `vectorize_protocols.py` to create a BoW corpus.\n",
    "\n",
    "```bash\n",
    "python vectorize_protocols.py --source-filename ~/tmp/riksdagens_protokoll_content.zip --target-filename ~/tmp/riksdagens_protokoll_content_corpus.zip\n",
    "```\n",
    "\n",
    "The script calls `generate_corpus` in `westac.corpus.corpus_vectorizer`:\n",
    "\n",
    "```python\n",
    "import westac.corpus.corpus_vectorizer as corpus_vectorizer\n",
    "\n",
    "kwargs = dict( ...vectorize arguments...)\n",
    "corpus_filename = ...\n",
    "output_folder = ...\n",
    "\n",
    "corpus_vectorizer.generate_corpus(corpus_filename, output_folder=output_folder, **kwargs)\n",
    "\n",
    "```\n",
    "\n",
    "The resulting corpus are stored in the specified output folder in two files; a numpy file containing the DTM and a Pythin pickled file with the dictionary and a document index.\n",
    "\n",
    "### Prepare text files for Sparv\n",
    "\n",
    "The Sparv pipeline requires that the individual document are stored as (individual) XML files. The shell script `sparvit-to-xml` can be used to add a root tag to all text files in a Zip archive. The resulting XML files iare stored as a new Zip archive.\n",
    "\n",
    "```bash\n",
    " sparvit-to-xml --input riksdagens_protokoll_content_corpus.zip --output riksdagens_protokoll_content_corpus_xml.zip\n",
    " ```"
   ]
  },
  {
   "cell_type": "code",
   "execution_count": null,
   "metadata": {
    "lines_to_next_cell": 2,
    "tags": [],
    "vscode": {}
   },
   "outputs": [],
   "source": [
    "%load_ext autoreload\n",
    "%autoreload 2\n",
    "\n",
    "import os\n",
    "import sys\n",
    "import types\n",
    "\n",
    "import bokeh.plotting\n",
    "\n",
    "import notebooks.word_trends.corpus_gui as corpus_gui\n",
    "import notebooks.word_trends.word_trends_gui as word_trends_gui\n",
    "\n",
    "# from beakerx import *\n",
    "# from beakerx.object import beakerx\n",
    "\n",
    "root_folder = os.path.join(os.getcwd().split('welfare_state_analytics')[0], 'welfare_state_analytics')\n",
    "corpus_folder = os.path.join(root_folder, 'data/riksdagens_protokoll')\n",
    "\n",
    "sys.path = sys.path + [root_folder, globals()['_dh'][-1]]\n",
    "\n",
    "bokeh.plotting.output_notebook(hide_banner=True)\n",
    "\n",
    "container = types.SimpleNamespace(corpus=None, handle=None, data_source=None, data=None, figure=None)"
   ]
  },
  {
   "cell_type": "markdown",
   "metadata": {},
   "source": [
    "# Load previously vectorized corpus\n",
    "\n",
    "The corpus was created with the following settings:\n",
    " - Tokens were converted to lower case.\n",
    " - Only tokens that contains at least one alphanumeric character (only_alphanumeric).\n",
    " - Accents are ot removed (remove_accents)\n",
    " - Min token length 2 (min_len)\n",
    " - Max length not set (max_len)\n",
    " - Numerals are removed (keep_numerals, -N)\n",
    " - Symbols are removed (keep_symbols, -S)\n",
    "\n",
    "Use the `vectorize_protocol` script to create a new corpus with different settings.\n",
    "\n",
    "The corpus is processed in the following ways when loaded:\n",
    "\n",
    " - Exclude tokens having a total word count less than `Min count`\n",
    " - Include at most `Top count` most frequent words.\n",
    " - Group and sum up documents by year.\n",
    " - Normalize token distribution over years to 1.0\n"
   ]
  },
  {
   "cell_type": "code",
   "execution_count": null,
   "metadata": {
    "tags": [],
    "vscode": {
     "end_execution_time": "2020-08-31T18:34:55.995Z",
     "start_execution_time": "2020-08-31T18:34:55.854Z"
    }
   },
   "outputs": [],
   "source": [
    "\n",
    "\n",
    "ui = corpus_gui.display_gui(corpus_folder, container=container)"
   ]
  },
  {
   "cell_type": "code",
   "execution_count": null,
   "metadata": {},
   "outputs": [],
   "source": [
    "word_trends_gui.display_gui(container)"
   ]
  }
 ],
 "metadata": {
  "jupytext": {
   "formats": "ipynb,py:percent"
  },
  "kernelspec": {
   "display_name": "Python 3.7.5 64-bit ('welfare_state_analytics': pipenv)",
   "language": "python",
   "name": "python37564bitwelfarestateanalyticspipenvb8730e518d45450a918e95a98e055dbf"
  },
  "language_info": {
   "codemirror_mode": {
    "name": "ipython",
    "version": 3
   },
   "file_extension": ".py",
   "mimetype": "text/x-python",
   "name": "python",
   "nbconvert_exporter": "python",
   "pygments_lexer": "ipython3",
   "version": "3.8.5"
  }
 },
 "nbformat": 4,
 "nbformat_minor": 4
}

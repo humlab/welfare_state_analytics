{
 "cells": [
  {
   "cell_type": "markdown",
   "metadata": {},
   "source": [
    "# Prepare Riksdagens Protokoll for Text Analysis\n",
    "\n",
    "## Download Text from KB-LAB API (JSON)\n",
    "\n",
    "Use Python script `extract_json_text.py` to download `content.json` and `meta.json`. The script downloads queries packagers having \"protocoll\" tag (query `{ \"tags\": \"protokoll\" }`).\n",
    "\n",
    "```bash\n",
    "cd source/welfare_state_analytics\n",
    "pipenv shell\n",
    "cd westac/kblab\n",
    "nohup python download_protocol_content_json.py >& run.log &\n",
    "```\n",
    "\n",
    "The result is stored as a Zip archive.\n",
    "\n",
    "### Extract text from JSON and store as a corpus of individual text files \n",
    "\n",
    "Use the script `extract_json_text.py` to extract the text from the JSON files.\n",
    "\n",
    "```bash\n",
    "python extract_json_text.py --source-filename ~/tmp/riksdagens_protokoll_content.zip --target-filename ~/tmp/riksdagens_protokoll_content_corpus.zip\n",
    "```\n",
    "\n",
    "The resulting Zip file contains the text files named as `prot_yyyyyy__NN.txt`. One file per protocoll.\n",
    "\n",
    "### Vectorize the corpus to a BoW corpus (westac.VectorizedCorpus)\n",
    "\n",
    "Use the script `vectorize_protocols.py` to create a BoW corpus.\n",
    "\n",
    "```bash\n",
    "python vectorize_protocols.py --source-filename ~/tmp/riksdagens_protokoll_content.zip --target-filename ~/tmp/riksdagens_protokoll_content_corpus.zip\n",
    "```\n",
    "\n",
    "The script calls `generate_corpus` in `westac.corpus.corpus_vectorizer`:\n",
    "\n",
    "```python\n",
    "import westac.corpus.corpus_vectorizer as corpus_vectorizer\n",
    "\n",
    "kwargs = dict( ...vectorize arguments...)\n",
    "corpus_filename = ...\n",
    "output_folder = ...\n",
    "\n",
    "corpus_vectorizer.generate_corpus(corpus_filename, output_folder=output_folder, **kwargs)\n",
    "\n",
    "```\n",
    "\n",
    "The resulting corpus are stored in the specified output folder in two files; a numpy file containing the DTM and a Pythin pickled file with the dictionary and a document index.\n",
    "\n",
    "### Prepare text files for Sparv\n",
    "\n",
    "The Sparv pipeline requires that the individual document are stored as (individual) XML files. The shell script `sparvit-to-xml` can be used to add a root tag to all text files in a Zip archive. The resulting XML files iare stored as a new Zip archive.\n",
    "\n",
    "```bash\n",
    " sparvit-to-xml --input riksdagens_protokoll_content_corpus.zip --output riksdagens_protokoll_content_corpus_xml.zip\n",
    " ```"
   ]
  },
  {
   "cell_type": "code",
   "execution_count": null,
   "metadata": {
    "tags": [],
    "vscode": {}
   },
   "outputs": [],
   "source": [
    "%load_ext autoreload\n",
    "%autoreload 2\n",
    "\n",
    "import os\n",
    "import sys\n",
    "import bokeh.plotting\n",
    "import types\n",
    "\n",
    "# from beakerx import *\n",
    "# from beakerx.object import beakerx\n",
    "\n",
    "root_folder = os.path.join(os.getcwd().split('welfare_state_analytics')[0], 'welfare_state_analytics')\n",
    "corpus_folder = os.path.join(root_folder, 'data/riksdagens_protokoll')\n",
    "\n",
    "sys.path = sys.path + [ root_folder, globals()['_dh'][-1] ]\n",
    "\n",
    "bokeh.plotting.output_notebook(hide_banner=True)\n",
    "\n",
    "container = types.SimpleNamespace(corpus=None, handle=None, data_source=None, data=None, figure=None)\n"
   ]
  },
  {
   "cell_type": "markdown",
   "metadata": {},
   "source": [
    "# Load previously vectorized corpus\n",
    "\n",
    "The corpus was created with the following settings:\n",
    " - Tokens were converted to lower case.\n",
    " - Only tokens that contains at least one alphanumeric character (isalnum).\n",
    " - Accents are ot removed (deacc)\n",
    " - Min token length 2 (min_len)\n",
    " - Max length not set (max_len)\n",
    " - Numerals are removed (numerals, -N)\n",
    " - Symbols are removed (symbols, -S)\n",
    "\n",
    "Use the `vectorize_protocol` script to create a new corpus with different settings.\n",
    "\n",
    "The corpus is processed in the following ways when loaded:\n",
    "\n",
    " - Exclude tokens having a total word count less than `Min count`\n",
    " - Include at most `Top count` most frequent words.\n",
    " - Group and sum up documents by year.\n",
    " - Normalize token distribution over years to 1.0\n",
    " "
   ]
  },
  {
   "cell_type": "code",
   "execution_count": null,
   "metadata": {
    "tags": [],
    "vscode": {
     "end_execution_time": "2020-08-31T18:34:55.995Z",
     "start_execution_time": "2020-08-31T18:34:55.854Z"
    }
   },
   "outputs": [],
   "source": [
    "import word_trends_corpus_gui as corpus_gui\n",
    "\n",
    "ui = corpus_gui.display_gui(corpus_folder, container=container)"
   ]
  },
  {
   "cell_type": "code",
   "execution_count": null,
   "metadata": {},
   "outputs": [],
   "source": [
    "import word_trends_gui\n",
    "word_trends_gui.display_gui(container)"
   ]
  },
  {
   "cell_type": "code",
   "execution_count": null,
   "metadata": {
    "tags": []
   },
   "outputs": [],
   "source": [
    "import ipyaggrid_plot\n",
    "import pandas as pd\n",
    "ipyaggrid_plot.display_grid(data=container.data)\n",
    "#df = pd.DataFrame(data=data)\n",
    "#df"
   ]
  },
  {
   "cell_type": "code",
   "execution_count": null,
   "metadata": {},
   "outputs": [],
   "source": [
    "dir(Grid.__init__)\n",
    "\n",
    "\n",
    "def __init__(self,\n",
    "              width='100%',\n",
    "              height=0,\n",
    "              center=False,\n",
    "              theme='ag-theme-fresh',\n",
    "\n",
    "              grid_data=[],\n",
    "              grid_options={},\n",
    "              grid_options_multi=[],\n",
    "              columns_fit='size_to_fit',\n",
    "              index=False,\n",
    "              keep_multiindex=False,\n",
    "              compress_data=True,\n",
    "\n",
    "              quick_filter=False,\n",
    "              export_csv=False,\n",
    "              export_excel=False,\n",
    "              show_toggle_delete=False,\n",
    "              show_toggle_edit=False,\n",
    "              paste_from_excel=False,\n",
    "              export_mode='disabled',\n",
    "              export_to_df=True,\n",
    "              hide_grid=False,\n",
    "\n",
    "              js_helpers_custom='',\n",
    "              js_pre_helpers=[],\n",
    "              js_pre_grid=[],\n",
    "              js_post_grid=[],\n",
    "              css_rules='',\n",
    "              menu=None,\n",
    "              user_params={},\n",
    "\n",
    "              license=''):"
   ]
  },
  {
   "cell_type": "code",
   "execution_count": null,
   "metadata": {},
   "outputs": [],
   "source": []
  }
 ],
 "metadata": {
  "kernelspec": {
   "display_name": "Python 3.7.5 64-bit ('welfare_state_analytics': pipenv)",
   "language": "python",
   "name": "python37564bitwelfarestateanalyticspipenvb8730e518d45450a918e95a98e055dbf"
  },
  "language_info": {
   "codemirror_mode": {
    "name": "ipython",
    "version": 3
   },
   "file_extension": ".py",
   "mimetype": "text/x-python",
   "name": "python",
   "nbconvert_exporter": "python",
   "pygments_lexer": "ipython3",
   "version": "3.7.5-final"
  }
 },
 "nbformat": 4,
 "nbformat_minor": 4
}

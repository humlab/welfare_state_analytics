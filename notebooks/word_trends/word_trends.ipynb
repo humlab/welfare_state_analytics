{
 "cells": [
  {
   "cell_type": "markdown",
   "metadata": {},
   "source": [
    "# Prepare Riksdagens Protokoll for Text Analysis\n",
    "\n",
    "## Download Text from KB-LAB API (JSON)\n",
    "\n",
    "Use Python script `extract_json_text.py` to download `content.json` and `meta.json`. The script downloads queries packagers having \"protocoll\" tag (query `{ \"tags\": \"protokoll\" }`).\n",
    "\n",
    "```bash\n",
    "cd source/welfare_state_analytics\n",
    "pipenv shell\n",
    "cd westac/kblab\n",
    "nohup python download_protocol_content_json.py >& run.log &\n",
    "```\n",
    "\n",
    "The result is stored as a Zip archive.\n",
    "\n",
    "### Extract text from JSON and store as a corpus of individual text files \n",
    "\n",
    "Use the script `extract_json_text.py` to extract the text from the JSON files.\n",
    "\n",
    "```bash\n",
    "python extract_json_text.py --source-filename ~/tmp/riksdagens_protokoll_content.zip --target-filename ~/tmp/riksdagens_protokoll_content_corpus.zip\n",
    "```\n",
    "\n",
    "The resulting Zip file contains the text files named as `prot_yyyyyy__NN.txt`. One file per protocoll.\n",
    "\n",
    "### Vectorize the corpus to a BoW corpus (westac.VectorizedCorpus)\n",
    "\n",
    "Use the script `vectorize_protocols.py` to create a BoW corpus.\n",
    "\n",
    "```bash\n",
    "python vectorize_protocols.py --source-filename ~/tmp/riksdagens_protokoll_content.zip --target-filename ~/tmp/riksdagens_protokoll_content_corpus.zip\n",
    "```\n",
    "\n",
    "The script calls `generate_corpus` in `westac.corpus.corpus_vectorizer`:\n",
    "\n",
    "```python\n",
    "import westac.corpus.corpus_vectorizer as corpus_vectorizer\n",
    "\n",
    "kwargs = dict( ...vectorize arguments...)\n",
    "corpus_filename = ...\n",
    "output_folder = ...\n",
    "\n",
    "corpus_vectorizer.generate_corpus(corpus_filename, output_folder=output_folder, **kwargs)\n",
    "\n",
    "```\n",
    "\n",
    "The resulting corpus are stored in the specified output folder in two files; a numpy file containing the DTM and a Pythin pickled file with the dictionary and a document index.\n",
    "\n",
    "### Prepare text files for Sparv\n",
    "\n",
    "The Sparv pipeline requires that the individual document are stored as (individual) XML files. The shell script `sparvit-to-xml` can be used to add a root tag to all text files in a Zip archive. The resulting XML files iare stored as a new Zip archive.\n",
    "\n",
    "```bash\n",
    " sparvit-to-xml --input riksdagens_protokoll_content_corpus.zip --output riksdagens_protokoll_content_corpus_xml.zip\n",
    " ```"
   ]
  },
  {
   "cell_type": "code",
   "execution_count": 3,
   "metadata": {
    "tags": [],
    "vscode": {}
   },
   "outputs": [
    {
     "output_type": "stream",
     "name": "stdout",
     "text": "The autoreload extension is already loaded. To reload it, use:\n  %reload_ext autoreload\n"
    },
    {
     "output_type": "display_data",
     "data": {
      "application/javascript": "\n(function(root) {\n  function now() {\n    return new Date();\n  }\n\n  var force = true;\n\n  if (typeof root._bokeh_onload_callbacks === \"undefined\" || force === true) {\n    root._bokeh_onload_callbacks = [];\n    root._bokeh_is_loading = undefined;\n  }\n\n  var JS_MIME_TYPE = 'application/javascript';\n  var HTML_MIME_TYPE = 'text/html';\n  var EXEC_MIME_TYPE = 'application/vnd.bokehjs_exec.v0+json';\n  var CLASS_NAME = 'output_bokeh rendered_html';\n\n  /**\n   * Render data to the DOM node\n   */\n  function render(props, node) {\n    var script = document.createElement(\"script\");\n    node.appendChild(script);\n  }\n\n  /**\n   * Handle when an output is cleared or removed\n   */\n  function handleClearOutput(event, handle) {\n    var cell = handle.cell;\n\n    var id = cell.output_area._bokeh_element_id;\n    var server_id = cell.output_area._bokeh_server_id;\n    // Clean up Bokeh references\n    if (id != null && id in Bokeh.index) {\n      Bokeh.index[id].model.document.clear();\n      delete Bokeh.index[id];\n    }\n\n    if (server_id !== undefined) {\n      // Clean up Bokeh references\n      var cmd = \"from bokeh.io.state import curstate; print(curstate().uuid_to_server['\" + server_id + \"'].get_sessions()[0].document.roots[0]._id)\";\n      cell.notebook.kernel.execute(cmd, {\n        iopub: {\n          output: function(msg) {\n            var id = msg.content.text.trim();\n            if (id in Bokeh.index) {\n              Bokeh.index[id].model.document.clear();\n              delete Bokeh.index[id];\n            }\n          }\n        }\n      });\n      // Destroy server and session\n      var cmd = \"import bokeh.io.notebook as ion; ion.destroy_server('\" + server_id + \"')\";\n      cell.notebook.kernel.execute(cmd);\n    }\n  }\n\n  /**\n   * Handle when a new output is added\n   */\n  function handleAddOutput(event, handle) {\n    var output_area = handle.output_area;\n    var output = handle.output;\n\n    // limit handleAddOutput to display_data with EXEC_MIME_TYPE content only\n    if ((output.output_type != \"display_data\") || (!output.data.hasOwnProperty(EXEC_MIME_TYPE))) {\n      return\n    }\n\n    var toinsert = output_area.element.find(\".\" + CLASS_NAME.split(' ')[0]);\n\n    if (output.metadata[EXEC_MIME_TYPE][\"id\"] !== undefined) {\n      toinsert[toinsert.length - 1].firstChild.textContent = output.data[JS_MIME_TYPE];\n      // store reference to embed id on output_area\n      output_area._bokeh_element_id = output.metadata[EXEC_MIME_TYPE][\"id\"];\n    }\n    if (output.metadata[EXEC_MIME_TYPE][\"server_id\"] !== undefined) {\n      var bk_div = document.createElement(\"div\");\n      bk_div.innerHTML = output.data[HTML_MIME_TYPE];\n      var script_attrs = bk_div.children[0].attributes;\n      for (var i = 0; i < script_attrs.length; i++) {\n        toinsert[toinsert.length - 1].firstChild.setAttribute(script_attrs[i].name, script_attrs[i].value);\n        toinsert[toinsert.length - 1].firstChild.textContent = bk_div.children[0].textContent\n      }\n      // store reference to server id on output_area\n      output_area._bokeh_server_id = output.metadata[EXEC_MIME_TYPE][\"server_id\"];\n    }\n  }\n\n  function register_renderer(events, OutputArea) {\n\n    function append_mime(data, metadata, element) {\n      // create a DOM node to render to\n      var toinsert = this.create_output_subarea(\n        metadata,\n        CLASS_NAME,\n        EXEC_MIME_TYPE\n      );\n      this.keyboard_manager.register_events(toinsert);\n      // Render to node\n      var props = {data: data, metadata: metadata[EXEC_MIME_TYPE]};\n      render(props, toinsert[toinsert.length - 1]);\n      element.append(toinsert);\n      return toinsert\n    }\n\n    /* Handle when an output is cleared or removed */\n    events.on('clear_output.CodeCell', handleClearOutput);\n    events.on('delete.Cell', handleClearOutput);\n\n    /* Handle when a new output is added */\n    events.on('output_added.OutputArea', handleAddOutput);\n\n    /**\n     * Register the mime type and append_mime function with output_area\n     */\n    OutputArea.prototype.register_mime_type(EXEC_MIME_TYPE, append_mime, {\n      /* Is output safe? */\n      safe: true,\n      /* Index of renderer in `output_area.display_order` */\n      index: 0\n    });\n  }\n\n  // register the mime type if in Jupyter Notebook environment and previously unregistered\n  if (root.Jupyter !== undefined) {\n    var events = require('base/js/events');\n    var OutputArea = require('notebook/js/outputarea').OutputArea;\n\n    if (OutputArea.prototype.mime_types().indexOf(EXEC_MIME_TYPE) == -1) {\n      register_renderer(events, OutputArea);\n    }\n  }\n\n  \n  if (typeof (root._bokeh_timeout) === \"undefined\" || force === true) {\n    root._bokeh_timeout = Date.now() + 5000;\n    root._bokeh_failed_load = false;\n  }\n\n  var NB_LOAD_WARNING = {'data': {'text/html':\n     \"<div style='background-color: #fdd'>\\n\"+\n     \"<p>\\n\"+\n     \"BokehJS does not appear to have successfully loaded. If loading BokehJS from CDN, this \\n\"+\n     \"may be due to a slow or bad network connection. Possible fixes:\\n\"+\n     \"</p>\\n\"+\n     \"<ul>\\n\"+\n     \"<li>re-rerun `output_notebook()` to attempt to load from CDN again, or</li>\\n\"+\n     \"<li>use INLINE resources instead, as so:</li>\\n\"+\n     \"</ul>\\n\"+\n     \"<code>\\n\"+\n     \"from bokeh.resources import INLINE\\n\"+\n     \"output_notebook(resources=INLINE)\\n\"+\n     \"</code>\\n\"+\n     \"</div>\"}};\n\n  function display_loaded() {\n    var el = document.getElementById(null);\n    if (el != null) {\n      el.textContent = \"BokehJS is loading...\";\n    }\n    if (root.Bokeh !== undefined) {\n      if (el != null) {\n        el.textContent = \"BokehJS \" + root.Bokeh.version + \" successfully loaded.\";\n      }\n    } else if (Date.now() < root._bokeh_timeout) {\n      setTimeout(display_loaded, 100)\n    }\n  }\n\n\n  function run_callbacks() {\n    try {\n      root._bokeh_onload_callbacks.forEach(function(callback) {\n        if (callback != null)\n          callback();\n      });\n    } finally {\n      delete root._bokeh_onload_callbacks\n    }\n    console.debug(\"Bokeh: all callbacks have finished\");\n  }\n\n  function load_libs(css_urls, js_urls, callback) {\n    if (css_urls == null) css_urls = [];\n    if (js_urls == null) js_urls = [];\n\n    root._bokeh_onload_callbacks.push(callback);\n    if (root._bokeh_is_loading > 0) {\n      console.debug(\"Bokeh: BokehJS is being loaded, scheduling callback at\", now());\n      return null;\n    }\n    if (js_urls == null || js_urls.length === 0) {\n      run_callbacks();\n      return null;\n    }\n    console.debug(\"Bokeh: BokehJS not loaded, scheduling load and callback at\", now());\n    root._bokeh_is_loading = css_urls.length + js_urls.length;\n\n    function on_load() {\n      root._bokeh_is_loading--;\n      if (root._bokeh_is_loading === 0) {\n        console.debug(\"Bokeh: all BokehJS libraries/stylesheets loaded\");\n        run_callbacks()\n      }\n    }\n\n    function on_error() {\n      console.error(\"failed to load \" + url);\n    }\n\n    for (var i = 0; i < css_urls.length; i++) {\n      var url = css_urls[i];\n      const element = document.createElement(\"link\");\n      element.onload = on_load;\n      element.onerror = on_error;\n      element.rel = \"stylesheet\";\n      element.type = \"text/css\";\n      element.href = url;\n      console.debug(\"Bokeh: injecting link tag for BokehJS stylesheet: \", url);\n      document.body.appendChild(element);\n    }\n\n    const hashes = {\"https://cdn.bokeh.org/bokeh/release/bokeh-2.2.0.min.js\": \"jtq3UzIrk2TfDZfSNGEN0ICKrRWmtzZSQm6i1Xnd3hY3UfU9m98vuEL7JUv7Iway\", \"https://cdn.bokeh.org/bokeh/release/bokeh-widgets-2.2.0.min.js\": \"rRlSZb4FImflqQNhKcvkZq8b+FqcNFxP9CmCO8Vgo9uNXe6wk6yNMlKMrXn+TjeM\", \"https://cdn.bokeh.org/bokeh/release/bokeh-tables-2.2.0.min.js\": \"MJyUmyL5f4wPlABPEp4CF5HzMeAPMvzucE8gEGNH15tAWgHFb2hsPNIEkva89XtP\"};\n\n    for (var i = 0; i < js_urls.length; i++) {\n      var url = js_urls[i];\n      var element = document.createElement('script');\n      element.onload = on_load;\n      element.onerror = on_error;\n      element.async = false;\n      element.src = url;\n      if (url in hashes) {\n        element.crossOrigin = \"anonymous\";\n        element.integrity = \"sha384-\" + hashes[url];\n      }\n      console.debug(\"Bokeh: injecting script tag for BokehJS library: \", url);\n      document.head.appendChild(element);\n    }\n  };\n\n  function inject_raw_css(css) {\n    const element = document.createElement(\"style\");\n    element.appendChild(document.createTextNode(css));\n    document.body.appendChild(element);\n  }\n\n  \n  var js_urls = [\"https://cdn.bokeh.org/bokeh/release/bokeh-2.2.0.min.js\", \"https://cdn.bokeh.org/bokeh/release/bokeh-widgets-2.2.0.min.js\", \"https://cdn.bokeh.org/bokeh/release/bokeh-tables-2.2.0.min.js\"];\n  var css_urls = [];\n  \n\n  var inline_js = [\n    function(Bokeh) {\n      Bokeh.set_log_level(\"info\");\n    },\n    function(Bokeh) {\n    \n    \n    }\n  ];\n\n  function run_inline_js() {\n    \n    if (root.Bokeh !== undefined || force === true) {\n      \n    for (var i = 0; i < inline_js.length; i++) {\n      inline_js[i].call(root, root.Bokeh);\n    }\n    } else if (Date.now() < root._bokeh_timeout) {\n      setTimeout(run_inline_js, 100);\n    } else if (!root._bokeh_failed_load) {\n      console.log(\"Bokeh: BokehJS failed to load within specified timeout.\");\n      root._bokeh_failed_load = true;\n    } else if (force !== true) {\n      var cell = $(document.getElementById(null)).parents('.cell').data().cell;\n      cell.output_area.append_execute_result(NB_LOAD_WARNING)\n    }\n\n  }\n\n  if (root._bokeh_is_loading === 0) {\n    console.debug(\"Bokeh: BokehJS loaded, going straight to plotting\");\n    run_inline_js();\n  } else {\n    load_libs(css_urls, js_urls, function() {\n      console.debug(\"Bokeh: BokehJS plotting callback run at\", now());\n      run_inline_js();\n    });\n  }\n}(window));",
      "application/vnd.bokehjs_load.v0+json": "\n(function(root) {\n  function now() {\n    return new Date();\n  }\n\n  var force = true;\n\n  if (typeof root._bokeh_onload_callbacks === \"undefined\" || force === true) {\n    root._bokeh_onload_callbacks = [];\n    root._bokeh_is_loading = undefined;\n  }\n\n  \n\n  \n  if (typeof (root._bokeh_timeout) === \"undefined\" || force === true) {\n    root._bokeh_timeout = Date.now() + 5000;\n    root._bokeh_failed_load = false;\n  }\n\n  var NB_LOAD_WARNING = {'data': {'text/html':\n     \"<div style='background-color: #fdd'>\\n\"+\n     \"<p>\\n\"+\n     \"BokehJS does not appear to have successfully loaded. If loading BokehJS from CDN, this \\n\"+\n     \"may be due to a slow or bad network connection. Possible fixes:\\n\"+\n     \"</p>\\n\"+\n     \"<ul>\\n\"+\n     \"<li>re-rerun `output_notebook()` to attempt to load from CDN again, or</li>\\n\"+\n     \"<li>use INLINE resources instead, as so:</li>\\n\"+\n     \"</ul>\\n\"+\n     \"<code>\\n\"+\n     \"from bokeh.resources import INLINE\\n\"+\n     \"output_notebook(resources=INLINE)\\n\"+\n     \"</code>\\n\"+\n     \"</div>\"}};\n\n  function display_loaded() {\n    var el = document.getElementById(null);\n    if (el != null) {\n      el.textContent = \"BokehJS is loading...\";\n    }\n    if (root.Bokeh !== undefined) {\n      if (el != null) {\n        el.textContent = \"BokehJS \" + root.Bokeh.version + \" successfully loaded.\";\n      }\n    } else if (Date.now() < root._bokeh_timeout) {\n      setTimeout(display_loaded, 100)\n    }\n  }\n\n\n  function run_callbacks() {\n    try {\n      root._bokeh_onload_callbacks.forEach(function(callback) {\n        if (callback != null)\n          callback();\n      });\n    } finally {\n      delete root._bokeh_onload_callbacks\n    }\n    console.debug(\"Bokeh: all callbacks have finished\");\n  }\n\n  function load_libs(css_urls, js_urls, callback) {\n    if (css_urls == null) css_urls = [];\n    if (js_urls == null) js_urls = [];\n\n    root._bokeh_onload_callbacks.push(callback);\n    if (root._bokeh_is_loading > 0) {\n      console.debug(\"Bokeh: BokehJS is being loaded, scheduling callback at\", now());\n      return null;\n    }\n    if (js_urls == null || js_urls.length === 0) {\n      run_callbacks();\n      return null;\n    }\n    console.debug(\"Bokeh: BokehJS not loaded, scheduling load and callback at\", now());\n    root._bokeh_is_loading = css_urls.length + js_urls.length;\n\n    function on_load() {\n      root._bokeh_is_loading--;\n      if (root._bokeh_is_loading === 0) {\n        console.debug(\"Bokeh: all BokehJS libraries/stylesheets loaded\");\n        run_callbacks()\n      }\n    }\n\n    function on_error() {\n      console.error(\"failed to load \" + url);\n    }\n\n    for (var i = 0; i < css_urls.length; i++) {\n      var url = css_urls[i];\n      const element = document.createElement(\"link\");\n      element.onload = on_load;\n      element.onerror = on_error;\n      element.rel = \"stylesheet\";\n      element.type = \"text/css\";\n      element.href = url;\n      console.debug(\"Bokeh: injecting link tag for BokehJS stylesheet: \", url);\n      document.body.appendChild(element);\n    }\n\n    const hashes = {\"https://cdn.bokeh.org/bokeh/release/bokeh-2.2.0.min.js\": \"jtq3UzIrk2TfDZfSNGEN0ICKrRWmtzZSQm6i1Xnd3hY3UfU9m98vuEL7JUv7Iway\", \"https://cdn.bokeh.org/bokeh/release/bokeh-widgets-2.2.0.min.js\": \"rRlSZb4FImflqQNhKcvkZq8b+FqcNFxP9CmCO8Vgo9uNXe6wk6yNMlKMrXn+TjeM\", \"https://cdn.bokeh.org/bokeh/release/bokeh-tables-2.2.0.min.js\": \"MJyUmyL5f4wPlABPEp4CF5HzMeAPMvzucE8gEGNH15tAWgHFb2hsPNIEkva89XtP\"};\n\n    for (var i = 0; i < js_urls.length; i++) {\n      var url = js_urls[i];\n      var element = document.createElement('script');\n      element.onload = on_load;\n      element.onerror = on_error;\n      element.async = false;\n      element.src = url;\n      if (url in hashes) {\n        element.crossOrigin = \"anonymous\";\n        element.integrity = \"sha384-\" + hashes[url];\n      }\n      console.debug(\"Bokeh: injecting script tag for BokehJS library: \", url);\n      document.head.appendChild(element);\n    }\n  };\n\n  function inject_raw_css(css) {\n    const element = document.createElement(\"style\");\n    element.appendChild(document.createTextNode(css));\n    document.body.appendChild(element);\n  }\n\n  \n  var js_urls = [\"https://cdn.bokeh.org/bokeh/release/bokeh-2.2.0.min.js\", \"https://cdn.bokeh.org/bokeh/release/bokeh-widgets-2.2.0.min.js\", \"https://cdn.bokeh.org/bokeh/release/bokeh-tables-2.2.0.min.js\"];\n  var css_urls = [];\n  \n\n  var inline_js = [\n    function(Bokeh) {\n      Bokeh.set_log_level(\"info\");\n    },\n    function(Bokeh) {\n    \n    \n    }\n  ];\n\n  function run_inline_js() {\n    \n    if (root.Bokeh !== undefined || force === true) {\n      \n    for (var i = 0; i < inline_js.length; i++) {\n      inline_js[i].call(root, root.Bokeh);\n    }\n    } else if (Date.now() < root._bokeh_timeout) {\n      setTimeout(run_inline_js, 100);\n    } else if (!root._bokeh_failed_load) {\n      console.log(\"Bokeh: BokehJS failed to load within specified timeout.\");\n      root._bokeh_failed_load = true;\n    } else if (force !== true) {\n      var cell = $(document.getElementById(null)).parents('.cell').data().cell;\n      cell.output_area.append_execute_result(NB_LOAD_WARNING)\n    }\n\n  }\n\n  if (root._bokeh_is_loading === 0) {\n    console.debug(\"Bokeh: BokehJS loaded, going straight to plotting\");\n    run_inline_js();\n  } else {\n    load_libs(css_urls, js_urls, function() {\n      console.debug(\"Bokeh: BokehJS plotting callback run at\", now());\n      run_inline_js();\n    });\n  }\n}(window));"
     },
     "metadata": {}
    }
   ],
   "source": [
    "%load_ext autoreload\n",
    "%autoreload 2\n",
    "\n",
    "import os\n",
    "import sys\n",
    "import bokeh.plotting\n",
    "import types\n",
    "\n",
    "# from beakerx import *\n",
    "# from beakerx.object import beakerx\n",
    "\n",
    "root_folder = os.path.join(os.getcwd().split('welfare_state_analytics')[0], 'welfare_state_analytics')\n",
    "corpus_folder = os.path.join(root_folder, 'data/riksdagens_protokoll')\n",
    "\n",
    "sys.path = sys.path + [ root_folder, globals()['_dh'][-1] ]\n",
    "\n",
    "bokeh.plotting.output_notebook(hide_banner=True)\n",
    "\n",
    "container = types.SimpleNamespace(corpus=None, handle=None, data_source=None, data=None, figure=None)\n"
   ]
  },
  {
   "cell_type": "markdown",
   "metadata": {},
   "source": [
    "# Load previously vectorized corpus\n",
    "\n",
    "The corpus was created with the following settings:\n",
    " - Tokens were converted to lower case.\n",
    " - Only tokens that contains at least one alphanumeric character (isalnum).\n",
    " - Accents are ot removed (deacc)\n",
    " - Min token length 2 (min_len)\n",
    " - Max length not set (max_len)\n",
    " - Numerals are removed (numerals, -N)\n",
    " - Symbols are removed (symbols, -S)\n",
    "\n",
    "Use the `vectorize_protocol` script to create a new corpus with different settings.\n",
    "\n",
    "The corpus is processed in the following ways when loaded:\n",
    "\n",
    " - Exclude tokens having a total word count less than `Min count`\n",
    " - Include at most `Top count` most frequent words.\n",
    " - Group and sum up documents by year.\n",
    " - Normalize token distribution over years to 1.0\n",
    " "
   ]
  },
  {
   "cell_type": "code",
   "execution_count": 4,
   "metadata": {
    "tags": [],
    "vscode": {
     "end_execution_time": "2020-08-31T18:34:55.995Z",
     "start_execution_time": "2020-08-31T18:34:55.854Z"
    }
   },
   "outputs": [
    {
     "output_type": "display_data",
     "data": {
      "text/plain": "HBox(children=(VBox(children=(Dropdown(description='Corpus', layout=Layout(width='420px'), options=('riksdagen…",
      "application/vnd.jupyter.widget-view+json": {
       "version_major": 2,
       "version_minor": 0,
       "model_id": "b058bc6a6c104721a99000c454cffb44"
      }
     },
     "metadata": {}
    }
   ],
   "source": [
    "import word_trends_corpus_gui as corpus_gui\n",
    "\n",
    "ui = corpus_gui.display_gui(corpus_folder, container=container)"
   ]
  },
  {
   "cell_type": "code",
   "execution_count": 7,
   "metadata": {},
   "outputs": [
    {
     "output_type": "display_data",
     "data": {
      "text/plain": "VBox(children=(HBox(children=(Textarea(value='och eller hur', layout=Layout(height='200px', width='600px'), ro…",
      "application/vnd.jupyter.widget-view+json": {
       "version_major": 2,
       "version_minor": 0,
       "model_id": "79026ce7c63845738ccbfd20b0ea2f58"
      }
     },
     "metadata": {}
    }
   ],
   "source": [
    "import word_trends_gui\n",
    "word_trends_gui.display_gui(container)"
   ]
  },
  {
   "cell_type": "code",
   "execution_count": 8,
   "metadata": {
    "tags": []
   },
   "outputs": [
    {
     "output_type": "display_data",
     "data": {
      "text/plain": "           och     eller       hur\nyear                              \n1945  0.006424  0.008405  0.005276\n1946  0.000705  0.001103  0.000380\n1947  0.000000  0.000000  0.000000\n1948  0.019782  0.026279  0.018525\n1949  0.020122  0.025560  0.019415\n1950  0.005426  0.006363  0.004798\n1951  0.000000  0.000000  0.000000\n1952  0.000255  0.000227  0.000118\n1953  0.000000  0.000000  0.000000\n1954  0.000000  0.000000  0.000000\n1955  0.000000  0.000000  0.000000\n1956  0.000000  0.000000  0.000000\n1957  0.002072  0.002372  0.002003\n1958  0.025963  0.028909  0.025228\n1959  0.009076  0.009719  0.008621\n1960  0.017999  0.019339  0.014015\n1961  0.001371  0.001415  0.001159\n1962  0.016209  0.017843  0.012431\n1963  0.030171  0.032265  0.024436\n1964  0.023218  0.024241  0.020286\n1965  0.032702  0.033172  0.027028\n1966  0.031106  0.030804  0.028135\n1967  0.040344  0.042565  0.035132\n1968  0.037429  0.035337  0.031682\n1969  0.015184  0.015975  0.013766\n1970  0.006985  0.006240  0.005800\n1971  0.033675  0.033876  0.033600\n1972  0.037199  0.037525  0.037122\n1973  0.036703  0.037109  0.035230\n1974  0.029969  0.030769  0.029778\n1975  0.052944  0.051696  0.051353\n1976  0.012951  0.012830  0.013170\n1977  0.029506  0.026206  0.029614\n1978  0.039628  0.034787  0.037803\n1979  0.036103  0.032361  0.036042\n1980  0.032803  0.032269  0.037142\n1981  0.035305  0.033849  0.038543\n1982  0.031975  0.030373  0.035021\n1983  0.033781  0.033688  0.038287\n1984  0.034577  0.033422  0.038431\n1985  0.032106  0.029950  0.034039\n1986  0.034853  0.034234  0.039125\n1987  0.036972  0.035218  0.041999\n1988  0.035461  0.034126  0.042444\n1989  0.040943  0.037578  0.053022",
      "text/html": "<div>\n<style scoped>\n    .dataframe tbody tr th:only-of-type {\n        vertical-align: middle;\n    }\n\n    .dataframe tbody tr th {\n        vertical-align: top;\n    }\n\n    .dataframe thead th {\n        text-align: right;\n    }\n</style>\n<table border=\"1\" class=\"dataframe\">\n  <thead>\n    <tr style=\"text-align: right;\">\n      <th></th>\n      <th>och</th>\n      <th>eller</th>\n      <th>hur</th>\n    </tr>\n    <tr>\n      <th>year</th>\n      <th></th>\n      <th></th>\n      <th></th>\n    </tr>\n  </thead>\n  <tbody>\n    <tr>\n      <th>1945</th>\n      <td>0.006424</td>\n      <td>0.008405</td>\n      <td>0.005276</td>\n    </tr>\n    <tr>\n      <th>1946</th>\n      <td>0.000705</td>\n      <td>0.001103</td>\n      <td>0.000380</td>\n    </tr>\n    <tr>\n      <th>1947</th>\n      <td>0.000000</td>\n      <td>0.000000</td>\n      <td>0.000000</td>\n    </tr>\n    <tr>\n      <th>1948</th>\n      <td>0.019782</td>\n      <td>0.026279</td>\n      <td>0.018525</td>\n    </tr>\n    <tr>\n      <th>1949</th>\n      <td>0.020122</td>\n      <td>0.025560</td>\n      <td>0.019415</td>\n    </tr>\n    <tr>\n      <th>1950</th>\n      <td>0.005426</td>\n      <td>0.006363</td>\n      <td>0.004798</td>\n    </tr>\n    <tr>\n      <th>1951</th>\n      <td>0.000000</td>\n      <td>0.000000</td>\n      <td>0.000000</td>\n    </tr>\n    <tr>\n      <th>1952</th>\n      <td>0.000255</td>\n      <td>0.000227</td>\n      <td>0.000118</td>\n    </tr>\n    <tr>\n      <th>1953</th>\n      <td>0.000000</td>\n      <td>0.000000</td>\n      <td>0.000000</td>\n    </tr>\n    <tr>\n      <th>1954</th>\n      <td>0.000000</td>\n      <td>0.000000</td>\n      <td>0.000000</td>\n    </tr>\n    <tr>\n      <th>1955</th>\n      <td>0.000000</td>\n      <td>0.000000</td>\n      <td>0.000000</td>\n    </tr>\n    <tr>\n      <th>1956</th>\n      <td>0.000000</td>\n      <td>0.000000</td>\n      <td>0.000000</td>\n    </tr>\n    <tr>\n      <th>1957</th>\n      <td>0.002072</td>\n      <td>0.002372</td>\n      <td>0.002003</td>\n    </tr>\n    <tr>\n      <th>1958</th>\n      <td>0.025963</td>\n      <td>0.028909</td>\n      <td>0.025228</td>\n    </tr>\n    <tr>\n      <th>1959</th>\n      <td>0.009076</td>\n      <td>0.009719</td>\n      <td>0.008621</td>\n    </tr>\n    <tr>\n      <th>1960</th>\n      <td>0.017999</td>\n      <td>0.019339</td>\n      <td>0.014015</td>\n    </tr>\n    <tr>\n      <th>1961</th>\n      <td>0.001371</td>\n      <td>0.001415</td>\n      <td>0.001159</td>\n    </tr>\n    <tr>\n      <th>1962</th>\n      <td>0.016209</td>\n      <td>0.017843</td>\n      <td>0.012431</td>\n    </tr>\n    <tr>\n      <th>1963</th>\n      <td>0.030171</td>\n      <td>0.032265</td>\n      <td>0.024436</td>\n    </tr>\n    <tr>\n      <th>1964</th>\n      <td>0.023218</td>\n      <td>0.024241</td>\n      <td>0.020286</td>\n    </tr>\n    <tr>\n      <th>1965</th>\n      <td>0.032702</td>\n      <td>0.033172</td>\n      <td>0.027028</td>\n    </tr>\n    <tr>\n      <th>1966</th>\n      <td>0.031106</td>\n      <td>0.030804</td>\n      <td>0.028135</td>\n    </tr>\n    <tr>\n      <th>1967</th>\n      <td>0.040344</td>\n      <td>0.042565</td>\n      <td>0.035132</td>\n    </tr>\n    <tr>\n      <th>1968</th>\n      <td>0.037429</td>\n      <td>0.035337</td>\n      <td>0.031682</td>\n    </tr>\n    <tr>\n      <th>1969</th>\n      <td>0.015184</td>\n      <td>0.015975</td>\n      <td>0.013766</td>\n    </tr>\n    <tr>\n      <th>1970</th>\n      <td>0.006985</td>\n      <td>0.006240</td>\n      <td>0.005800</td>\n    </tr>\n    <tr>\n      <th>1971</th>\n      <td>0.033675</td>\n      <td>0.033876</td>\n      <td>0.033600</td>\n    </tr>\n    <tr>\n      <th>1972</th>\n      <td>0.037199</td>\n      <td>0.037525</td>\n      <td>0.037122</td>\n    </tr>\n    <tr>\n      <th>1973</th>\n      <td>0.036703</td>\n      <td>0.037109</td>\n      <td>0.035230</td>\n    </tr>\n    <tr>\n      <th>1974</th>\n      <td>0.029969</td>\n      <td>0.030769</td>\n      <td>0.029778</td>\n    </tr>\n    <tr>\n      <th>1975</th>\n      <td>0.052944</td>\n      <td>0.051696</td>\n      <td>0.051353</td>\n    </tr>\n    <tr>\n      <th>1976</th>\n      <td>0.012951</td>\n      <td>0.012830</td>\n      <td>0.013170</td>\n    </tr>\n    <tr>\n      <th>1977</th>\n      <td>0.029506</td>\n      <td>0.026206</td>\n      <td>0.029614</td>\n    </tr>\n    <tr>\n      <th>1978</th>\n      <td>0.039628</td>\n      <td>0.034787</td>\n      <td>0.037803</td>\n    </tr>\n    <tr>\n      <th>1979</th>\n      <td>0.036103</td>\n      <td>0.032361</td>\n      <td>0.036042</td>\n    </tr>\n    <tr>\n      <th>1980</th>\n      <td>0.032803</td>\n      <td>0.032269</td>\n      <td>0.037142</td>\n    </tr>\n    <tr>\n      <th>1981</th>\n      <td>0.035305</td>\n      <td>0.033849</td>\n      <td>0.038543</td>\n    </tr>\n    <tr>\n      <th>1982</th>\n      <td>0.031975</td>\n      <td>0.030373</td>\n      <td>0.035021</td>\n    </tr>\n    <tr>\n      <th>1983</th>\n      <td>0.033781</td>\n      <td>0.033688</td>\n      <td>0.038287</td>\n    </tr>\n    <tr>\n      <th>1984</th>\n      <td>0.034577</td>\n      <td>0.033422</td>\n      <td>0.038431</td>\n    </tr>\n    <tr>\n      <th>1985</th>\n      <td>0.032106</td>\n      <td>0.029950</td>\n      <td>0.034039</td>\n    </tr>\n    <tr>\n      <th>1986</th>\n      <td>0.034853</td>\n      <td>0.034234</td>\n      <td>0.039125</td>\n    </tr>\n    <tr>\n      <th>1987</th>\n      <td>0.036972</td>\n      <td>0.035218</td>\n      <td>0.041999</td>\n    </tr>\n    <tr>\n      <th>1988</th>\n      <td>0.035461</td>\n      <td>0.034126</td>\n      <td>0.042444</td>\n    </tr>\n    <tr>\n      <th>1989</th>\n      <td>0.040943</td>\n      <td>0.037578</td>\n      <td>0.053022</td>\n    </tr>\n  </tbody>\n</table>\n</div>"
     },
     "metadata": {}
    },
    {
     "output_type": "display_data",
     "data": {
      "text/plain": "Grid(columns_fit='auto', compress_data=True, export_mode='buttons', height='350px', menu={'buttons': [{'name':…",
      "application/vnd.jupyter.widget-view+json": {
       "version_major": 2,
       "version_minor": 0,
       "model_id": "5402afaf6258497d9fdde9d5c4c79a40"
      }
     },
     "metadata": {}
    }
   ],
   "source": [
    "import ipyaggrid_plot\n",
    "import pandas as pd\n",
    "ipyaggrid_plot.display_grid(data=container.data)\n",
    "#df = pd.DataFrame(data=data)\n",
    "#df"
   ]
  },
  {
   "cell_type": "code",
   "execution_count": null,
   "metadata": {},
   "outputs": [],
   "source": [
    "dir(Grid.__init__)\n",
    "\n",
    "\n",
    "def __init__(self,\n",
    "              width='100%',\n",
    "              height=0,\n",
    "              center=False,\n",
    "              theme='ag-theme-fresh',\n",
    "\n",
    "              grid_data=[],\n",
    "              grid_options={},\n",
    "              grid_options_multi=[],\n",
    "              columns_fit='size_to_fit',\n",
    "              index=False,\n",
    "              keep_multiindex=False,\n",
    "              compress_data=True,\n",
    "\n",
    "              quick_filter=False,\n",
    "              export_csv=False,\n",
    "              export_excel=False,\n",
    "              show_toggle_delete=False,\n",
    "              show_toggle_edit=False,\n",
    "              paste_from_excel=False,\n",
    "              export_mode='disabled',\n",
    "              export_to_df=True,\n",
    "              hide_grid=False,\n",
    "\n",
    "              js_helpers_custom='',\n",
    "              js_pre_helpers=[],\n",
    "              js_pre_grid=[],\n",
    "              js_post_grid=[],\n",
    "              css_rules='',\n",
    "              menu=None,\n",
    "              user_params={},\n",
    "\n",
    "              license=''):"
   ]
  },
  {
   "cell_type": "code",
   "execution_count": null,
   "metadata": {},
   "outputs": [],
   "source": []
  }
 ],
 "metadata": {
  "kernelspec": {
   "display_name": "Python 3.7.5 64-bit ('welfare_state_analytics': pipenv)",
   "language": "python",
   "name": "python37564bitwelfarestateanalyticspipenvb8730e518d45450a918e95a98e055dbf"
  },
  "language_info": {
   "codemirror_mode": {
    "name": "ipython",
    "version": 3
   },
   "file_extension": ".py",
   "mimetype": "text/x-python",
   "name": "python",
   "nbconvert_exporter": "python",
   "pygments_lexer": "ipython3",
   "version": "3.7.5-final"
  }
 },
 "nbformat": 4,
 "nbformat_minor": 4
}
{
 "cells": [
  {
   "cell_type": "code",
   "execution_count": 46,
   "metadata": {},
   "outputs": [],
   "source": [
    "import pandas as pd\n",
    "import os, sys\n",
    "\n",
    "sys.path = list(set(sys.path + [ '../case_study_word_distribution_trends/iteration_01' ]))\n",
    "\n",
    "import utility\n",
    "import text_corpus\n",
    "import corpus_vectorizer\n",
    "import types\n"
   ]
  },
  {
   "cell_type": "code",
   "execution_count": 47,
   "metadata": {},
   "outputs": [
    {
     "data": {
      "text/html": [
       "<div>\n",
       "<style scoped>\n",
       "    .dataframe tbody tr th:only-of-type {\n",
       "        vertical-align: middle;\n",
       "    }\n",
       "\n",
       "    .dataframe tbody tr th {\n",
       "        vertical-align: top;\n",
       "    }\n",
       "\n",
       "    .dataframe thead th {\n",
       "        text-align: right;\n",
       "    }\n",
       "</style>\n",
       "<table border=\"1\" class=\"dataframe\">\n",
       "  <thead>\n",
       "    <tr style=\"text-align: right;\">\n",
       "      <th></th>\n",
       "      <th>year</th>\n",
       "      <th>txt</th>\n",
       "    </tr>\n",
       "  </thead>\n",
       "  <tbody>\n",
       "    <tr>\n",
       "      <td>0</td>\n",
       "      <td>1945</td>\n",
       "      <td>andre red f l lönnegren ( ansvarig utgivare po...</td>\n",
       "    </tr>\n",
       "    <tr>\n",
       "      <td>1</td>\n",
       "      <td>1945</td>\n",
       "      <td>åter blivit en internationell maktfaktor en se...</td>\n",
       "    </tr>\n",
       "    <tr>\n",
       "      <td>2</td>\n",
       "      <td>1945</td>\n",
       "      <td>av en tysk ockupation för att trygga sin polit...</td>\n",
       "    </tr>\n",
       "    <tr>\n",
       "      <td>3</td>\n",
       "      <td>1945</td>\n",
       "      <td>om vad som inträffat i för oss främmande polit...</td>\n",
       "    </tr>\n",
       "    <tr>\n",
       "      <td>4</td>\n",
       "      <td>1945</td>\n",
       "      <td>har kommit som det nya årets första stora poli...</td>\n",
       "    </tr>\n",
       "  </tbody>\n",
       "</table>\n",
       "</div>"
      ],
      "text/plain": [
       "   year                                                txt\n",
       "0  1945  andre red f l lönnegren ( ansvarig utgivare po...\n",
       "1  1945  åter blivit en internationell maktfaktor en se...\n",
       "2  1945  av en tysk ockupation för att trygga sin polit...\n",
       "3  1945  om vad som inträffat i för oss främmande polit...\n",
       "4  1945  har kommit som det nya årets första stora poli..."
      ]
     },
     "execution_count": 47,
     "metadata": {},
     "output_type": "execute_result"
    }
   ],
   "source": [
    "# df = pd.read_excel('./data/year+text_window.xlsx')\n",
    "# df.to_csv('./data/year+text_window.txt', sep='\\t')\n",
    "\n",
    "df = pd.read_csv('./data/year+text_window.txt', sep='\\t')[['year', 'txt']]\n",
    "df.head()"
   ]
  },
  {
   "cell_type": "code",
   "execution_count": 80,
   "metadata": {},
   "outputs": [
    {
     "data": {
      "text/html": [
       "<div>\n",
       "<style scoped>\n",
       "    .dataframe tbody tr th:only-of-type {\n",
       "        vertical-align: middle;\n",
       "    }\n",
       "\n",
       "    .dataframe tbody tr th {\n",
       "        vertical-align: top;\n",
       "    }\n",
       "\n",
       "    .dataframe thead th {\n",
       "        text-align: right;\n",
       "    }\n",
       "</style>\n",
       "<table border=\"1\" class=\"dataframe\">\n",
       "  <thead>\n",
       "    <tr style=\"text-align: right;\">\n",
       "      <th></th>\n",
       "      <th>year</th>\n",
       "      <th>txt</th>\n",
       "    </tr>\n",
       "  </thead>\n",
       "  <tbody>\n",
       "    <tr>\n",
       "      <td>63</td>\n",
       "      <td>1945</td>\n",
       "      <td>NaN</td>\n",
       "    </tr>\n",
       "    <tr>\n",
       "      <td>123</td>\n",
       "      <td>1945</td>\n",
       "      <td>NaN</td>\n",
       "    </tr>\n",
       "    <tr>\n",
       "      <td>521</td>\n",
       "      <td>1945</td>\n",
       "      <td>NaN</td>\n",
       "    </tr>\n",
       "    <tr>\n",
       "      <td>706</td>\n",
       "      <td>1945</td>\n",
       "      <td>NaN</td>\n",
       "    </tr>\n",
       "    <tr>\n",
       "      <td>1727</td>\n",
       "      <td>1945</td>\n",
       "      <td>NaN</td>\n",
       "    </tr>\n",
       "    <tr>\n",
       "      <td>...</td>\n",
       "      <td>...</td>\n",
       "      <td>...</td>\n",
       "    </tr>\n",
       "    <tr>\n",
       "      <td>929249</td>\n",
       "      <td>1989</td>\n",
       "      <td>NaN</td>\n",
       "    </tr>\n",
       "    <tr>\n",
       "      <td>929398</td>\n",
       "      <td>1989</td>\n",
       "      <td>NaN</td>\n",
       "    </tr>\n",
       "    <tr>\n",
       "      <td>929732</td>\n",
       "      <td>1989</td>\n",
       "      <td>NaN</td>\n",
       "    </tr>\n",
       "    <tr>\n",
       "      <td>929748</td>\n",
       "      <td>1989</td>\n",
       "      <td>NaN</td>\n",
       "    </tr>\n",
       "    <tr>\n",
       "      <td>929959</td>\n",
       "      <td>1989</td>\n",
       "      <td>NaN</td>\n",
       "    </tr>\n",
       "  </tbody>\n",
       "</table>\n",
       "<p>4874 rows × 2 columns</p>\n",
       "</div>"
      ],
      "text/plain": [
       "        year  txt\n",
       "63      1945  NaN\n",
       "123     1945  NaN\n",
       "521     1945  NaN\n",
       "706     1945  NaN\n",
       "1727    1945  NaN\n",
       "...      ...  ...\n",
       "929249  1989  NaN\n",
       "929398  1989  NaN\n",
       "929732  1989  NaN\n",
       "929748  1989  NaN\n",
       "929959  1989  NaN\n",
       "\n",
       "[4874 rows x 2 columns]"
      ]
     },
     "execution_count": 80,
     "metadata": {},
     "output_type": "execute_result"
    }
   ],
   "source": [
    "df[df.txt.isna()]"
   ]
  },
  {
   "cell_type": "code",
   "execution_count": 96,
   "metadata": {},
   "outputs": [
    {
     "ename": "SyntaxError",
     "evalue": "invalid syntax (<ipython-input-96-e41147caca97>, line 10)",
     "output_type": "error",
     "traceback": [
      "\u001b[0;36m  File \u001b[0;32m\"<ipython-input-96-e41147caca97>\"\u001b[0;36m, line \u001b[0;32m10\u001b[0m\n\u001b[0;31m    if len(self.df[self.df.txt.isna()]) > 0:\u001b[0m\n\u001b[0m                                           ^\u001b[0m\n\u001b[0;31mSyntaxError\u001b[0m\u001b[0;31m:\u001b[0m invalid syntax\n"
     ]
    }
   ],
   "source": [
    "class DataFrameReader:\n",
    "\n",
    "    def __init__(self, df, year=None):\n",
    "        \n",
    "        self.df = df\n",
    "        \n",
    "        if year is not None:\n",
    "            self.df = self.df[self.df.year == year]\n",
    "                              \n",
    "        if len(self.df[self.df.txt.isna()]) > 0:\n",
    "            print('Warn: {} n/a rows encountered'.format(len(self.df[self.df.txt.isna()])))\n",
    "            self.df = self.df.dropna()\n",
    "            \n",
    "        self.iterator = None\n",
    "        self.metadata = [ types.SimpleNamespace(filename=str(i), year=r) for i, r in enumerate(self.df.year.values)]\n",
    "        self.metadict = { x.filename: x for x in (self.metadata or [])}\n",
    "        self.filenames = [ x.filename for x in self.metadata ]\n",
    "        \n",
    "    def __iter__(self):\n",
    "                              \n",
    "        self.iterator = None\n",
    "        return self\n",
    "\n",
    "    def __next__(self):\n",
    "                              \n",
    "        if self.iterator is None:\n",
    "            self.iterator = self.get_iterator()\n",
    "                              \n",
    "        return next(self.iterator)\n",
    "\n",
    "    def get_iterator(self):\n",
    "        return ((str(i), x) for i,x in enumerate(self.df.txt))\n"
   ]
  },
  {
   "cell_type": "code",
   "execution_count": 94,
   "metadata": {},
   "outputs": [
    {
     "name": "stdout",
     "output_type": "stream",
     "text": [
      "Warn: 137 n/a rows encountered\n"
     ]
    },
    {
     "data": {
      "text/plain": [
       "36868"
      ]
     },
     "execution_count": 94,
     "metadata": {},
     "output_type": "execute_result"
    }
   ],
   "source": [
    "reader = DataFrameReader(df, 1967)\n",
    "\n",
    "tokenizer = lambda x: x.split()\n",
    "\n",
    "corpus = text_corpus.ProcessedCorpus(reader, tokenizer=tokenizer, min_len=1, isalnum=False, to_lower=False, numerals=False)\n",
    "vectorizer = corpus_vectorizer.CorpusVectorizer() \n",
    "vectorizer.fit_transform(corpus)\n",
    "\n",
    "len(vectorizer.vocabulary.keys())\n",
    "\n"
   ]
  },
  {
   "cell_type": "code",
   "execution_count": 95,
   "metadata": {},
   "outputs": [
    {
     "data": {
      "text/plain": [
       "(23513, 36868)"
      ]
     },
     "execution_count": 95,
     "metadata": {},
     "output_type": "execute_result"
    }
   ],
   "source": [
    "vectorizer.X.shape"
   ]
  },
  {
   "cell_type": "code",
   "execution_count": null,
   "metadata": {},
   "outputs": [],
   "source": []
  }
 ],
 "metadata": {
  "kernelspec": {
   "display_name": "Python 3",
   "language": "python",
   "name": "python3"
  },
  "language_info": {
   "codemirror_mode": {
    "name": "ipython",
    "version": 3
   },
   "file_extension": ".py",
   "mimetype": "text/x-python",
   "name": "python",
   "nbconvert_exporter": "python",
   "pygments_lexer": "ipython3",
   "version": "3.7.3"
  }
 },
 "nbformat": 4,
 "nbformat_minor": 4
}

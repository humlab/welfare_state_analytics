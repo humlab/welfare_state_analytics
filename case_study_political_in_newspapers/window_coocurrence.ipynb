{
 "cells": [
  {
   "cell_type": "code",
   "execution_count": 4,
   "metadata": {},
   "outputs": [
    {
     "name": "stdout",
     "output_type": "stream",
     "text": [
      "The autoreload extension is already loaded. To reload it, use:\n",
      "  %reload_ext autoreload\n"
     ]
    }
   ],
   "source": [
    "%load_ext autoreload\n",
    "%autoreload 2\n",
    "import pandas as pd\n",
    "import numpy as np\n",
    "import scipy\n",
    "import os, sys\n",
    "\n",
    "sys.path = list(set(sys.path + [ '../common' ]))\n",
    "\n",
    "import utility\n",
    "import text_corpus\n",
    "import corpus_vectorizer\n",
    "import types\n",
    "\n",
    "# df = pd.read_excel('./data/year+text_window.xlsx')\n",
    "# df.to_csv('./data/year+text_window.txt', sep='\\t')"
   ]
  },
  {
   "cell_type": "code",
   "execution_count": 5,
   "metadata": {},
   "outputs": [],
   "source": [
    "class DfTextReader:\n",
    "\n",
    "    def __init__(self, df, year=None):\n",
    "        \n",
    "        self.df = df\n",
    "        \n",
    "        if year is not None:\n",
    "            self.df = self.df[self.df.year == year]\n",
    "                              \n",
    "        if len(self.df[self.df.txt.isna()]) > 0:\n",
    "            print('Warn: {} n/a rows encountered'.format(len(self.df[self.df.txt.isna()])))\n",
    "            self.df = self.df.dropna()\n",
    "            \n",
    "        self.iterator = None\n",
    "        self.metadata = [ types.SimpleNamespace(filename=str(i), year=r) for i, r in enumerate(self.df.year.values)]\n",
    "        self.metadict = { x.filename: x for x in (self.metadata or [])}\n",
    "        self.filenames = [ x.filename for x in self.metadata ]\n",
    "        \n",
    "    def __iter__(self):\n",
    "                              \n",
    "        self.iterator = None\n",
    "        return self\n",
    "\n",
    "    def __next__(self):\n",
    "                              \n",
    "        if self.iterator is None:\n",
    "            self.iterator = self.get_iterator()\n",
    "                              \n",
    "        return next(self.iterator)\n",
    "\n",
    "    def get_iterator(self):\n",
    "        return ((str(i), x) for i,x in enumerate(self.df.txt))"
   ]
  },
  {
   "cell_type": "code",
   "execution_count": 3,
   "metadata": {},
   "outputs": [
    {
     "name": "stdout",
     "output_type": "stream",
     "text": [
      "Warn: 40 n/a rows encountered\n"
     ]
    }
   ],
   "source": [
    "import numpy as np\n",
    "\n",
    "def compute_coocurrence_matrix(reader, **kwargs):\n",
    "\n",
    "    corpus = text_corpus.ProcessedCorpus(reader, isalnum=False, **kwargs)\n",
    "    vectorizer = corpus_vectorizer.CorpusVectorizer(lowercase=False)\n",
    "    vectorizer.fit_transform(corpus)\n",
    "        \n",
    "    term_term_matrix = np.dot(vectorizer.X.T, vectorizer.X)\n",
    "        \n",
    "    term_term_matrix = scipy.sparse.triu(term_term_matrix, 1)\n",
    "        \n",
    "    coo = term_term_matrix\n",
    "    id2token = { i: t for t,i in vectorizer.vocabulary.items()}\n",
    "    cdf = pd.DataFrame({\n",
    "        'w1_id': coo.row,\n",
    "        'w2_id': coo.col,\n",
    "        'value': coo.data\n",
    "    })[['w1_id', 'w2_id', 'value']].sort_values(['w1_id', 'w2_id'])\\\n",
    "        .reset_index(drop=True)\n",
    "    cdf['w1'] = cdf.w1_id.apply(lambda x: id2token[x])\n",
    "    cdf['w2'] = cdf.w2_id.apply(lambda x: id2token[x])\n",
    "    \n",
    "    return cdf[['w1', 'w2', 'value']]\n",
    "\n",
    "def compute_co_ocurrence_for_year(source_filename, year, result_filename):\n",
    "    \n",
    "    df = pd.read_csv(source_filename, sep='\\t')[['year', 'txt']]\n",
    "\n",
    "    reader = DfTextReader(df, year)\n",
    "\n",
    "    kwargs = dict(to_lower=True, deacc=False, min_len=1, max_len=None, numerals=False)\n",
    "\n",
    "    coo_df = compute_coocurrence_matrix(reader, **kwargs)\n",
    "    coo_df.to_excel(result_filename)\n",
    "\n",
    "compute_co_ocurrence_for_year('./data/year+text_window.txt', 1957, 'test_1957.xlsx')\n"
   ]
  }
 ],
 "metadata": {
  "jupytext": {
   "formats": "ipynb,py,md"
  },
  "kernelspec": {
   "display_name": "Python 3",
   "language": "python",
   "name": "python3"
  },
  "language_info": {
   "codemirror_mode": {
    "name": "ipython",
    "version": 3
   },
   "file_extension": ".py",
   "mimetype": "text/x-python",
   "name": "python",
   "nbconvert_exporter": "python",
   "pygments_lexer": "ipython3",
   "version": "3.7.3"
  }
 },
 "nbformat": 4,
 "nbformat_minor": 4
}

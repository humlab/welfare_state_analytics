{
 "cells": [
  {
   "cell_type": "markdown",
   "metadata": {},
   "source": [
    "# Install KB-LAB client\n",
    "\n",
    "```bash\n",
    "pipenv install kblab-client\n",
    "```"
   ]
  },
  {
   "cell_type": "code",
   "execution_count": null,
   "metadata": {},
   "outputs": [],
   "source": [
    "import os\n",
    "from kblab import Archive\n",
    "from json import load\n",
    "\n",
    "\n",
    "a = Archive('https://betalab.kb.se/', auth=(os.environ['KBLAB_USER'], os.environ['KBLAB_PASSWD']))\n",
    "\n",
    "query = { \"tags\": \"issue\", \"meta.created\": \"1927\" }\n",
    "query = { \"tags\": \"issue\" }\n",
    "query = { \"content\": \"test\" }\n",
    "\n",
    "a.search(query)"
   ]
  },
  {
   "cell_type": "code",
   "execution_count": null,
   "metadata": {},
   "outputs": [],
   "source": [
    "#dir(result)\n",
    "#[x for x in result]\n",
    "\n",
    "#import json\n",
    "#json.dumps(query)\n",
    "\n",
    "#from urllib.parse import urlencode\n",
    "#urlencode(query)"
   ]
  },
  {
   "cell_type": "code",
   "execution_count": null,
   "metadata": {},
   "outputs": [],
   "source": [
    "\n",
    "for package_id in a.search({ 'label': 'AFTONBLADET' }, max=2):\n",
    "    print(package_id)\n",
    "    p = a.get(package_id)\n",
    "\n",
    "    #print(p.label)\n",
    "\n"
   ]
  },
  {
   "cell_type": "code",
   "execution_count": null,
   "metadata": {},
   "outputs": [],
   "source": [
    "for package_id in a.search(query, max=2):\n",
    "    print(package_id)\n",
    "    package = a.get(package_id)\n",
    "\n",
    "\n"
   ]
  },
  {
   "cell_type": "code",
   "execution_count": null,
   "metadata": {
    "tags": [
     "outputPrepend"
    ]
   },
   "outputs": [],
   "source": [
    "package.list() # ['SOU_2000__24.pdf', 'content.json', 'structure.json']\n",
    "\n",
    "if 'content.json' in package:\n",
    "    x = load(package.get_raw('content.json'))\n",
    "    print(x[0])\n",
    "\n",
    "#package.get_location('content.json')"
   ]
  },
  {
   "cell_type": "code",
   "execution_count": null,
   "metadata": {},
   "outputs": [],
   "source": [
    "load(package.get_raw('content.json'))\n"
   ]
  },
  {
   "cell_type": "code",
   "execution_count": null,
   "metadata": {},
   "outputs": [],
   "source": []
  }
 ],
 "metadata": {
  "language_info": {
   "codemirror_mode": {
    "name": "ipython",
    "version": 3
   },
   "file_extension": ".py",
   "mimetype": "text/x-python",
   "name": "python",
   "nbconvert_exporter": "python",
   "pygments_lexer": "ipython3",
   "version": "3.7.6-final"
  },
  "orig_nbformat": 2,
  "kernelspec": {
   "name": "python_defaultSpec_1593069859389",
   "display_name": "Python 3.7.5 64-bit ('welfare_state_analytics': pipenv)"
  }
 },
 "nbformat": 4,
 "nbformat_minor": 2
}
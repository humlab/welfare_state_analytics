{
 "cells": [
  {
   "cell_type": "markdown",
   "metadata": {},
   "source": [
    "# Install KB-LAB client\n",
    "\n",
    "```bash\n",
    "pipenv install kblab-client\n",
    "```"
   ]
  },
  {
   "cell_type": "code",
   "execution_count": 24,
   "metadata": {},
   "outputs": [
    {
     "output_type": "execute_result",
     "data": {
      "text/plain": "Result(start='0', n='2960', m='2960', keys=<generator object HttpArchive._search_iter at 0x7fe87490df50>, hits=<generator object package_generator at 0x7fe8747da2d0>)"
     },
     "metadata": {},
     "execution_count": 24
    }
   ],
   "source": [
    "import os\n",
    "from kblab import Archive\n",
    "from json import load\n",
    "\n",
    "\n",
    "a = Archive('https://betalab.kb.se/', auth=(os.environ['KBLAB_USER'], os.environ['KBLAB_PASSWD']))\n",
    "\n",
    "query = { \"tags\": \"issue\", \"meta.created\": \"1927\" }\n",
    "query = { \"tags\": \"protokoll\" }\n",
    "\n",
    "a.search(query)\n"
   ]
  },
  {
   "cell_type": "code",
   "execution_count": 29,
   "metadata": {
    "tags": []
   },
   "outputs": [
    {
     "output_type": "stream",
     "name": "stdout",
     "text": "['__class__', '__contains__', '__delattr__', '__dict__', '__dir__', '__doc__', '__eq__', '__format__', '__ge__', '__getattribute__', '__getitem__', '__gt__', '__hash__', '__init__', '__init_subclass__', '__iter__', '__le__', '__lt__', '__module__', '__ne__', '__new__', '__reduce__', '__reduce_ex__', '__repr__', '__setattr__', '__setitem__', '__sizeof__', '__str__', '__subclasshook__', '__weakref__', '_desc', '_get_iter', '_mode', '_reload', 'auth', 'base', 'close', 'description', 'get_iter', 'get_location', 'get_raw', 'label', 'list', 'read', 'server_base', 'status', 'url']\n['__add__', '__class__', '__contains__', '__delattr__', '__dir__', '__doc__', '__eq__', '__format__', '__ge__', '__getattribute__', '__getitem__', '__getnewargs__', '__gt__', '__hash__', '__init__', '__init_subclass__', '__iter__', '__le__', '__len__', '__lt__', '__mod__', '__mul__', '__ne__', '__new__', '__reduce__', '__reduce_ex__', '__repr__', '__rmod__', '__rmul__', '__setattr__', '__sizeof__', '__str__', '__subclasshook__', 'capitalize', 'center', 'count', 'decode', 'endswith', 'expandtabs', 'find', 'fromhex', 'hex', 'index', 'isalnum', 'isalpha', 'isascii', 'isdigit', 'islower', 'isspace', 'istitle', 'isupper', 'join', 'ljust', 'lower', 'lstrip', 'maketrans', 'partition', 'replace', 'rfind', 'rindex', 'rjust', 'rpartition', 'rsplit', 'rstrip', 'split', 'splitlines', 'startswith', 'strip', 'swapcase', 'title', 'translate', 'upper', 'zfill']\n['__add__', '__class__', '__contains__', '__delattr__', '__dir__', '__doc__', '__eq__', '__format__', '__ge__', '__getattribute__', '__getitem__', '__getnewargs__', '__gt__', '__hash__', '__init__', '__init_subclass__', '__iter__', '__le__', '__len__', '__lt__', '__mod__', '__mul__', '__ne__', '__new__', '__reduce__', '__reduce_ex__', '__repr__', '__rmod__', '__rmul__', '__setattr__', '__sizeof__', '__str__', '__subclasshook__', 'capitalize', 'casefold', 'center', 'count', 'encode', 'endswith', 'expandtabs', 'find', 'format', 'format_map', 'index', 'isalnum', 'isalpha', 'isascii', 'isdecimal', 'isdigit', 'isidentifier', 'islower', 'isnumeric', 'isprintable', 'isspace', 'istitle', 'isupper', 'join', 'ljust', 'lower', 'lstrip', 'maketrans', 'partition', 'replace', 'rfind', 'rindex', 'rjust', 'rpartition', 'rsplit', 'rstrip', 'split', 'splitlines', 'startswith', 'strip', 'swapcase', 'title', 'translate', 'upper', 'zfill']\n"
    }
   ],
   "source": [
    "result = a.search({ \"tags\": \"protokoll\" }, max=2)\n",
    "\n",
    "for package_id in result:\n",
    "\n",
    "    package = a.get(package_id)\n",
    "\n",
    "    print(dir(package))\n",
    "    print(package.list())\n",
    "    \n",
    "    for file in package:\n",
    "        content = package.get_raw(file).read()\n",
    "        \n",
    "        print(dir(content))\n",
    "        print(dir(file))\n",
    "\n",
    "        break\n",
    "    break\n",
    "\n"
   ]
  },
  {
   "cell_type": "code",
   "execution_count": 31,
   "metadata": {
    "tags": []
   },
   "outputs": [
    {
     "output_type": "stream",
     "name": "stdout",
     "text": "['__add__', '__class__', '__contains__', '__delattr__', '__dir__', '__doc__', '__eq__', '__format__', '__ge__', '__getattribute__', '__getitem__', '__getnewargs__', '__gt__', '__hash__', '__init__', '__init_subclass__', '__iter__', '__le__', '__len__', '__lt__', '__mod__', '__mul__', '__ne__', '__new__', '__reduce__', '__reduce_ex__', '__repr__', '__rmod__', '__rmul__', '__setattr__', '__sizeof__', '__str__', '__subclasshook__', 'capitalize', 'center', 'count', 'decode', 'endswith', 'expandtabs', 'find', 'fromhex', 'hex', 'index', 'isalnum', 'isalpha', 'isascii', 'isdigit', 'islower', 'isspace', 'istitle', 'isupper', 'join', 'ljust', 'lower', 'lstrip', 'maketrans', 'partition', 'replace', 'rfind', 'rindex', 'rjust', 'rpartition', 'rsplit', 'rstrip', 'split', 'splitlines', 'startswith', 'strip', 'swapcase', 'title', 'translate', 'upper', 'zfill']\n"
    }
   ],
   "source": [
    "print(dir(content))"
   ]
  },
  {
   "cell_type": "code",
   "execution_count": 22,
   "metadata": {
    "tags": []
   },
   "outputs": [
    {
     "output_type": "stream",
     "name": "stdout",
     "text": "https://betalab.kb.se/prop-198990--99/\n"
    }
   ],
   "source": [
    "print(package.url)\n",
    "\n",
    "# ['__class__',\n",
    "#  'auth',\n",
    "#  'base',\n",
    "#  'close',\n",
    "#  'description',\n",
    "#  'get_iter',\n",
    "#  'get_location',\n",
    "#  'get_raw',\n",
    "#  'label',\n",
    "#  'list',\n",
    "#  'read',\n",
    "#  'server_base',\n",
    "#  'status',\n",
    "#  'url']\n"
   ]
  },
  {
   "cell_type": "code",
   "execution_count": null,
   "metadata": {},
   "outputs": [],
   "source": [
    "#dir(result)\n",
    "#[x for x in result]\n",
    "\n",
    "#import json\n",
    "#json.dumps(query)\n",
    "\n",
    "#from urllib.parse import urlencode\n",
    "#urlencode(query)"
   ]
  },
  {
   "cell_type": "code",
   "execution_count": null,
   "metadata": {},
   "outputs": [],
   "source": [
    "\n",
    "for package_id in a.search({ 'label': 'AFTONBLADET' }, max=2):\n",
    "    print(package_id)\n",
    "    p = a.get(package_id)\n",
    "\n",
    "    #print(p.label)\n",
    "\n"
   ]
  },
  {
   "cell_type": "code",
   "execution_count": 3,
   "metadata": {
    "tags": []
   },
   "outputs": [
    {
     "output_type": "stream",
     "name": "stdout",
     "text": "stored: content.json\nstored: coverage.json\nstored: coverage.txt\nstored: meta.json\nskipping: prot_1972__145-000.jpg\nstored: prot_1972__145-000.xml\nskipping: prot_1972__145-001.jpg\nstored: prot_1972__145-001.xml\nwarning: page(s) with no XML found 1 expected 0\nskipping: prot_1972__145-002.jpg\nstored: prot_1972__145-002.xml\nwarning: page(s) with no XML found 2 expected 0\nskipping: prot_1972__145-003.jpg\nstored: prot_1972__145-003.xml\nwarning: page(s) with no XML found 3 expected 0\nskipping: prot_1972__145-004.jb2e\nskipping: prot_1972__145-005.jpg\nstored: prot_1972__145-005.xml\nwarning: page(s) with no XML found 5 expected 0\nskipping: prot_1972__145-006.jb2e\nskipping: prot_1972__145-007.jpg\nstored: prot_1972__145-007.xml\nwarning: page(s) with no XML found 7 expected 0\nskipping: prot_1972__145-008.jb2e\nskipping: prot_1972__145-009.jpg\nstored: prot_1972__145-009.xml\nwarning: page(s) with no XML found 9 expected 0\nskipping: prot_1972__145-010.jb2e\nskipping: prot_1972__145-011.jpg\nstored: prot_1972__145-011.xml\nwarning: page(s) with no XML found 11 expected 0\nskipping: prot_1972__145-012.jpg\nstored: prot_1972__145-012.xml\nwarning: page(s) with no XML found 12 expected 0\nskipping: prot_1972__145-013.jpg\nstored: prot_1972__145-013.xml\nwarning: page(s) with no XML found 13 expected 0\nskipping: prot_1972__145-014.jpg\nstored: prot_1972__145-014.xml\nwarning: page(s) with no XML found 14 expected 0\nskipping: prot_1972__145-015.jpg\nstored: prot_1972__145-015.xml\nwarning: page(s) with no XML found 15 expected 0\nskipping: prot_1972__145-016.jpg\nstored: prot_1972__145-016.xml\nwarning: page(s) with no XML found 16 expected 0\nskipping: prot_1972__145-017.jpg\nstored: prot_1972__145-017.xml\nwarning: page(s) with no XML found 17 expected 0\nskipping: prot_1972__145-018.jpg\nstored: prot_1972__145-018.xml\nwarning: page(s) with no XML found 18 expected 0\nskipping: prot_1972__145-019.jpg\nstored: prot_1972__145-019.xml\nwarning: page(s) with no XML found 19 expected 0\nskipping: prot_1972__145-020.jpg\nstored: prot_1972__145-020.xml\nwarning: page(s) with no XML found 20 expected 0\nskipping: prot_1972__145-021.jpg\nstored: prot_1972__145-021.xml\nwarning: page(s) with no XML found 21 expected 0\nskipping: prot_1972__145-022.jpg\nstored: prot_1972__145-022.xml\nwarning: page(s) with no XML found 22 expected 0\nskipping: prot_1972__145-023.jpg\nstored: prot_1972__145-023.xml\nwarning: page(s) with no XML found 23 expected 0\nskipping: prot_1972__145-024.jpg\nstored: prot_1972__145-024.xml\nwarning: page(s) with no XML found 24 expected 0\nskipping: prot_1972__145-025.jpg\nstored: prot_1972__145-025.xml\nwarning: page(s) with no XML found 25 expected 0\nskipping: prot_1972__145-026.jpg\nstored: prot_1972__145-026.xml\nwarning: page(s) with no XML found 26 expected 0\nskipping: prot_1972__145-027.jpg\nstored: prot_1972__145-027.xml\nwarning: page(s) with no XML found 27 expected 0\nskipping: prot_1972__145-028.jpg\nstored: prot_1972__145-028.xml\nwarning: page(s) with no XML found 28 expected 0\nskipping: prot_1972__145-029.jpg\nstored: prot_1972__145-029.xml\nwarning: page(s) with no XML found 29 expected 0\nskipping: prot_1972__145-030.jpg\nstored: prot_1972__145-030.xml\nwarning: page(s) with no XML found 30 expected 0\nskipping: prot_1972__145-031.jpg\nstored: prot_1972__145-031.xml\nwarning: page(s) with no XML found 31 expected 0\nskipping: prot_1972__145-032.jpg\nstored: prot_1972__145-032.xml\nwarning: page(s) with no XML found 32 expected 0\nskipping: prot_1972__145-033.jpg\nstored: prot_1972__145-033.xml\nwarning: page(s) with no XML found 33 expected 0\nskipping: prot_1972__145-034.jpg\nstored: prot_1972__145-034.xml\nwarning: page(s) with no XML found 34 expected 0\nskipping: prot_1972__145-035.jpg\nstored: prot_1972__145-035.xml\nwarning: page(s) with no XML found 35 expected 0\nskipping: prot_1972__145-036.jpg\nstored: prot_1972__145-036.xml\nwarning: page(s) with no XML found 36 expected 0\nskipping: prot_1972__145-037.jpg\nstored: prot_1972__145-037.xml\nwarning: page(s) with no XML found 37 expected 0\nskipping: prot_1972__145-038.jpg\nstored: prot_1972__145-038.xml\nwarning: page(s) with no XML found 38 expected 0\nskipping: prot_1972__145-039.jpg\nstored: prot_1972__145-039.xml\nwarning: page(s) with no XML found 39 expected 0\nskipping: prot_1972__145-040.jpg\nstored: prot_1972__145-040.xml\nwarning: page(s) with no XML found 40 expected 0\nskipping: prot_1972__145-041.jpg\nstored: prot_1972__145-041.xml\nwarning: page(s) with no XML found 41 expected 0\nskipping: prot_1972__145-042.jpg\nstored: prot_1972__145-042.xml\nwarning: page(s) with no XML found 42 expected 0\nskipping: prot_1972__145-043.jpg\nstored: prot_1972__145-043.xml\nwarning: page(s) with no XML found 43 expected 0\nskipping: prot_1972__145-044.jpg\nstored: prot_1972__145-044.xml\nwarning: page(s) with no XML found 44 expected 0\nskipping: prot_1972__145-045.jpg\nstored: prot_1972__145-045.xml\nwarning: page(s) with no XML found 45 expected 0\nskipping: prot_1972__145-046.jpg\nstored: prot_1972__145-046.xml\nwarning: page(s) with no XML found 46 expected 0\nskipping: prot_1972__145-047.jpg\nstored: prot_1972__145-047.xml\nwarning: page(s) with no XML found 47 expected 0\nskipping: prot_1972__145-048.jpg\nstored: prot_1972__145-048.xml\nwarning: page(s) with no XML found 48 expected 0\nskipping: prot_1972__145-049.jpg\nstored: prot_1972__145-049.xml\nwarning: page(s) with no XML found 49 expected 0\nskipping: prot_1972__145-050.jpg\nstored: prot_1972__145-050.xml\nwarning: page(s) with no XML found 50 expected 0\nskipping: prot_1972__145-051.jpg\nstored: prot_1972__145-051.xml\nwarning: page(s) with no XML found 51 expected 0\nskipping: prot_1972__145-052.jpg\nstored: prot_1972__145-052.xml\nwarning: page(s) with no XML found 52 expected 0\nskipping: prot_1972__145-053.jpg\nstored: prot_1972__145-053.xml\nwarning: page(s) with no XML found 53 expected 0\nskipping: prot_1972__145-054.jpg\nstored: prot_1972__145-054.xml\nwarning: page(s) with no XML found 54 expected 0\nskipping: prot_1972__145-055.jpg\nstored: prot_1972__145-055.xml\nwarning: page(s) with no XML found 55 expected 0\nskipping: prot_1972__145-056.jpg\nstored: prot_1972__145-056.xml\nwarning: page(s) with no XML found 56 expected 0\nskipping: prot_1972__145-057.jpg\nstored: prot_1972__145-057.xml\nwarning: page(s) with no XML found 57 expected 0\nskipping: prot_1972__145-058.jpg\nstored: prot_1972__145-058.xml\nwarning: page(s) with no XML found 58 expected 0\nskipping: prot_1972__145-059.jpg\nstored: prot_1972__145-059.xml\nwarning: page(s) with no XML found 59 expected 0\nskipping: prot_1972__145-060.jpg\nstored: prot_1972__145-060.xml\nwarning: page(s) with no XML found 60 expected 0\nskipping: prot_1972__145-061.jpg\nstored: prot_1972__145-061.xml\nwarning: page(s) with no XML found 61 expected 0\nskipping: prot_1972__145-062.jpg\nstored: prot_1972__145-062.xml\nwarning: page(s) with no XML found 62 expected 0\nskipping: prot_1972__145-063.jpg\nstored: prot_1972__145-063.xml\nwarning: page(s) with no XML found 63 expected 0\nskipping: prot_1972__145-064.jpg\nstored: prot_1972__145-064.xml\nwarning: page(s) with no XML found 64 expected 0\nskipping: prot_1972__145-065.jpg\nstored: prot_1972__145-065.xml\nwarning: page(s) with no XML found 65 expected 0\nskipping: prot_1972__145-066.jpg\nstored: prot_1972__145-066.xml\nwarning: page(s) with no XML found 66 expected 0\nskipping: prot_1972__145-067.jpg\nstored: prot_1972__145-067.xml\nwarning: page(s) with no XML found 67 expected 0\nskipping: prot_1972__145-068.jpg\nstored: prot_1972__145-068.xml\nwarning: page(s) with no XML found 68 expected 0\nskipping: prot_1972__145-069.jpg\nstored: prot_1972__145-069.xml\nwarning: page(s) with no XML found 69 expected 0\nskipping: prot_1972__145-070.jpg\nstored: prot_1972__145-070.xml\nwarning: page(s) with no XML found 70 expected 0\nskipping: prot_1972__145-071.jpg\nstored: prot_1972__145-071.xml\nwarning: page(s) with no XML found 71 expected 0\nskipping: prot_1972__145-072.jpg\nstored: prot_1972__145-072.xml\nwarning: page(s) with no XML found 72 expected 0\nskipping: prot_1972__145-073.jpg\nstored: prot_1972__145-073.xml\nwarning: page(s) with no XML found 73 expected 0\nskipping: prot_1972__145-074.jpg\nstored: prot_1972__145-074.xml\nwarning: page(s) with no XML found 74 expected 0\nskipping: prot_1972__145-075.jpg\nstored: prot_1972__145-075.xml\nwarning: page(s) with no XML found 75 expected 0\nskipping: prot_1972__145-076.jpg\nstored: prot_1972__145-076.xml\nwarning: page(s) with no XML found 76 expected 0\nskipping: prot_1972__145-077.jpg\nstored: prot_1972__145-077.xml\nwarning: page(s) with no XML found 77 expected 0\nskipping: prot_1972__145-078.jpg\nstored: prot_1972__145-078.xml\nwarning: page(s) with no XML found 78 expected 0\nskipping: prot_1972__145-079.jpg\nstored: prot_1972__145-079.xml\nwarning: page(s) with no XML found 79 expected 0\nskipping: prot_1972__145-080.jpg\nstored: prot_1972__145-080.xml\nwarning: page(s) with no XML found 80 expected 0\nskipping: prot_1972__145-081.jpg\nstored: prot_1972__145-081.xml\nwarning: page(s) with no XML found 81 expected 0\nskipping: prot_1972__145-082.jpg\nstored: prot_1972__145-082.xml\nwarning: page(s) with no XML found 82 expected 0\nskipping: prot_1972__145-083.jpg\nstored: prot_1972__145-083.xml\nwarning: page(s) with no XML found 83 expected 0\nskipping: prot_1972__145-084.jpg\nstored: prot_1972__145-084.xml\nwarning: page(s) with no XML found 84 expected 0\nskipping: prot_1972__145-085.jpg\nstored: prot_1972__145-085.xml\nwarning: page(s) with no XML found 85 expected 0\nskipping: prot_1972__145-086.jpg\nstored: prot_1972__145-086.xml\nwarning: page(s) with no XML found 86 expected 0\nstored: structure.json\nstored: subs.txt\nstored: content.json\nstored: coverage.json\nstored: coverage.txt\nstored: meta.json\nskipping: prot_1972__148-000.jpg\nstored: prot_1972__148-000.xml\nskipping: prot_1972__148-001.jpg\nstored: prot_1972__148-001.xml\nwarning: page(s) with no XML found 1 expected 0\nskipping: prot_1972__148-002.jb2e\nskipping: prot_1972__148-003.jpg\nstored: prot_1972__148-003.xml\nwarning: page(s) with no XML found 3 expected 0\nskipping: prot_1972__148-004.jpg\nstored: prot_1972__148-004.xml\nwarning: page(s) with no XML found 4 expected 0\nskipping: prot_1972__148-005.jpg\nstored: prot_1972__148-005.xml\nwarning: page(s) with no XML found 5 expected 0\nskipping: prot_1972__148-006.jpg\nstored: prot_1972__148-006.xml\nwarning: page(s) with no XML found 6 expected 0\nstored: structure.json\nstored: subs.txt\n"
    }
   ],
   "source": [
    "import os\n",
    "import zipfile\n",
    "import fnmatch\n",
    "import re\n",
    "\n",
    "from kblab import Archive\n",
    "#from json import load\n",
    "\n",
    "# from utility import alto2text\n",
    "import xmltodict\n",
    "\n",
    "def kblab_connect():\n",
    "\n",
    "    kb_archive = Archive('https://betalab.kb.se/', auth=(os.environ['KBLAB_USER'], os.environ['KBLAB_PASSWD']))\n",
    "\n",
    "    return kb_archive\n",
    "\n",
    "def kblab_download_package(kb_archive, package_id, target_archive, excludes=None):\n",
    "\n",
    "    excludes = excludes or []\n",
    "\n",
    "    package = kb_archive.get(package_id)\n",
    "\n",
    "    if 'content.json' not in package:\n",
    "        print(\"warning: {} has no content\".format(package_id))\n",
    "        return\n",
    "\n",
    "    text_items = []\n",
    "    text_item_id = -1\n",
    "    for filename in sorted(package.list()):\n",
    "\n",
    "        if any(fnmatch.fnmatch(filename, pattern) for pattern in excludes):\n",
    "            # if os.path.splitext(filename)[1] in excludes:\n",
    "            print(\"skipping: {}\".format(filename))\n",
    "            continue\n",
    "\n",
    "        content = package.get_raw(filename).read()\n",
    "\n",
    "        target_archive.writestr(os.path.join(package_id, filename), content, zipfile.ZIP_DEFLATED)\n",
    "\n",
    "        print(\"stored: {}\".format(filename))\n",
    "\n",
    "        m = re.match(r'prot_(\\d{4})__(\\d+)\\-(\\d+)\\.xml', filename)\n",
    "        if m is not None:\n",
    "\n",
    "            year, id, page = m.groups()\n",
    "\n",
    "            assert package_id == \"prot-{}--{}\".format(year, id)\n",
    "\n",
    "            if (text_item_id + 1) != int(page):\n",
    "                print(\"warning: page(s) with no XML found {} expected {}\".format(int(page), previous_page + 1))\n",
    "\n",
    "            page_content = xmltodict.parse(content)\n",
    "            assert isinstance(page_content, dict) and 'alto' in page_content\n",
    "            package_documents.append(page_content)\n",
    "\n",
    "    #if len(pages) > 0:\n",
    "    #    target_archive.writestr(os.path.join(package_id, \"{}.txt\".format(package_id)), '\\n'.join(pages), zipfile.ZIP_DEFLATED)\n",
    "\n",
    "    return package_documents\n",
    "\n",
    "kb_archive = kblab_connect()\n",
    "target_folder = \"/home/roger/tmp\"\n",
    "target_filename = os.path.join(target_folder, \"riksdagens_protokoll.zip\")\n",
    "query = { \"tags\": \"protokoll\" }\n",
    "max_count = 2\n",
    "\n",
    "with zipfile.ZipFile(target_filename, \"w\") as target_archive:\n",
    "\n",
    "    for package_id in kb_archive.search(query, max=max_count):\n",
    "\n",
    "        package = kb_archive.get(package_id)\n",
    "\n",
    "        package_documents = kblab_download_package(kb_archive, package_id, target_archive, [\"*.jpg\", \"*.jb2e\"])\n",
    "\n"
   ]
  },
  {
   "cell_type": "code",
   "execution_count": 8,
   "metadata": {},
   "outputs": [],
   "source": [
    "document = pages[0]\n",
    "layout = page['alto']['Layout']\n",
    "for page in layout:\n",
    "    pass"
   ]
  },
  {
   "cell_type": "code",
   "execution_count": 12,
   "metadata": {},
   "outputs": [
    {
     "output_type": "execute_result",
     "data": {
      "text/plain": "['__class__',\n '__contains__',\n '__delattr__',\n '__dict__',\n '__dir__',\n '__doc__',\n '__eq__',\n '__format__',\n '__ge__',\n '__getattribute__',\n '__getitem__',\n '__gt__',\n '__hash__',\n '__init__',\n '__init_subclass__',\n '__iter__',\n '__le__',\n '__lt__',\n '__module__',\n '__ne__',\n '__new__',\n '__reduce__',\n '__reduce_ex__',\n '__repr__',\n '__setattr__',\n '__setitem__',\n '__sizeof__',\n '__str__',\n '__subclasshook__',\n '__weakref__',\n '_desc',\n '_get_iter',\n '_mode',\n '_reload',\n 'auth',\n 'base',\n 'close',\n 'description',\n 'get_iter',\n 'get_location',\n 'get_raw',\n 'label',\n 'list',\n 'read',\n 'server_base',\n 'status',\n 'url']"
     },
     "metadata": {},
     "execution_count": 12
    }
   ],
   "source": [
    "dir(package)"
   ]
  },
  {
   "cell_type": "code",
   "execution_count": 14,
   "metadata": {},
   "outputs": [
    {
     "output_type": "execute_result",
     "data": {
      "text/plain": "['__call__',\n '__class__',\n '__delattr__',\n '__dir__',\n '__doc__',\n '__eq__',\n '__format__',\n '__func__',\n '__ge__',\n '__get__',\n '__getattribute__',\n '__gt__',\n '__hash__',\n '__init__',\n '__init_subclass__',\n '__le__',\n '__lt__',\n '__ne__',\n '__new__',\n '__reduce__',\n '__reduce_ex__',\n '__repr__',\n '__self__',\n '__setattr__',\n '__sizeof__',\n '__str__',\n '__subclasshook__']"
     },
     "metadata": {},
     "execution_count": 14
    }
   ],
   "source": [
    "dir(package.description)"
   ]
  },
  {
   "cell_type": "code",
   "execution_count": null,
   "metadata": {},
   "outputs": [],
   "source": []
  }
 ],
 "metadata": {
  "language_info": {
   "codemirror_mode": {
    "name": "ipython",
    "version": 3
   },
   "file_extension": ".py",
   "mimetype": "text/x-python",
   "name": "python",
   "nbconvert_exporter": "python",
   "pygments_lexer": "ipython3",
   "version": "3.7.6-final"
  },
  "orig_nbformat": 2,
  "kernelspec": {
   "name": "python_defaultSpec_1593155367221",
   "display_name": "Python 3.7.5 64-bit ('welfare_state_analytics': pipenv)"
  }
 },
 "nbformat": 4,
 "nbformat_minor": 2
}
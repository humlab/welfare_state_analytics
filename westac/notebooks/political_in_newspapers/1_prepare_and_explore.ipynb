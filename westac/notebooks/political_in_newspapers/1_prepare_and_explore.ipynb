{
 "cells": [
  {
   "cell_type": "markdown",
   "execution_count": null,
   "metadata": {},
   "outputs": [],
   "source": [
    "### Process R data files"
   ]
  },
  {
   "cell_type": "code",
   "execution_count": 33,
   "metadata": {},
   "outputs": [
    {
     "name": "stdout",
     "output_type": "stream",
     "text": "The autoreload extension is already loaded. To reload it, use:\n  %reload_ext autoreload\n"
    }
   ],
   "source": [
    "%load_ext autoreload\n",
    "%autoreload 2\n",
    "\n",
    "import sys, os\n",
    "import westac.notebooks.political_in_newspapers.corpus_data as corpus_data\n",
    "\n",
    "root_folder = os.path.abspath(os.path.join(globals()['_dh'][-1], \"../../..\"))\n",
    "corpus_folder = os.path.join(root_folder, \"data/textblock_politisk\")\n",
    "\n",
    "sys.path = [ root_folder ] + sys.path\n",
    "\n",
    "import ipywidgets\n",
    "#from beakerx import *\n",
    "#from beakerx.object import beakerx\n",
    "from IPython.display import display\n",
    "from IPython.core.interactiveshell import InteractiveShell\n",
    "InteractiveShell.ast_node_interactivity = \"all\"\n",
    "\n",
    "import westac.corpus.vectorized_corpus as vectorized_corpus\n",
    "\n",
    "import warnings\n",
    "warnings.simplefilter(action='ignore', category=FutureWarning)\n",
    "\n",
    "flatten = lambda l: [item for sublist in l for item in sublist]\n"
   ]
  },
  {
   "cell_type": "markdown",
   "execution_count": null,
   "metadata": {},
   "outputs": [],
   "source": [
    "### Load DTM, document index and vocabulary\n",
    "This data is loaded from CSV files exported from R (drm1)"
   ]
  },
  {
   "cell_type": "code",
   "execution_count": null,
   "metadata": {},
   "outputs": [],
   "source": [
    "import westac.notebooks.political_in_newspapers.corpus_data as corpus_data\n",
    "df_corpus, df_document, df_vocabulary = corpus_data.load(corpus_folder)\n",
    "id2token = df_vocabulary['token'].to_dict()\n",
    "\n",
    "df_tf = df_corpus\\\n",
    "    .groupby(['document_id']).agg(\n",
    "        term_count=('tf', 'sum')\n",
    "    )\n",
    "df_document = df_document.merge(df_tf, how='inner', right_index=True, left_index=True)\n"
   ]
  },
  {
   "cell_type": "markdown",
   "execution_count": null,
   "metadata": {},
   "outputs": [],
   "source": [
    "### Document size distribution"
   ]
  },
  {
   "cell_type": "code",
   "execution_count": null,
   "metadata": {},
   "outputs": [],
   "source": [
    "\n",
    "def plot_document_size_distribution():\n",
    "\n",
    "    df = df_document\\\n",
    "        .groupby('term_count')\\\n",
    "        .size()\n",
    "\n",
    "    dx = pd.DataFrame({ 'term_count': list(range(0, df.index.max() + 1))}).set_index('term_count')\n",
    "    df = dx.join(df.rename('x'), how='left').fillna(0).astype(np.int)\n",
    "\n",
    "    ax = df\\\n",
    "        .plot\\\n",
    "        .bar(figsize=(20,10), rot=45);\n",
    "\n",
    "    ticks = ax.xaxis.get_ticklocs();\n",
    "    ticklabels = [ l.get_text() for l in ax.xaxis.get_ticklabels() ];\n",
    "    ax.xaxis.set_ticks(ticks[::100]);\n",
    "    ax.xaxis.set_ticklabels(ticklabels[::100]);\n",
    "\n",
    "    return df\n",
    "\n",
    "df = plot_document_size_distribution()\n",
    "\n",
    "#print(df.describe())\n",
    "\n"
   ]
  },
  {
   "cell_type": "markdown",
   "execution_count": null,
   "metadata": {},
   "outputs": [],
   "source": [
    "### Number of documents per year and publication"
   ]
  },
  {
   "cell_type": "code",
   "execution_count": null,
   "metadata": {},
   "outputs": [],
   "source": [
    "df = df_document\\\n",
    "    .groupby(['year', 'publication'])\\\n",
    "    .agg(document_count=('doc_id', 'nunique'))\\\n",
    "    .reset_index()\\\n",
    "    .set_index(['year', 'publication'])\n",
    "\n",
    "df\\\n",
    "    .unstack('publication')\\\n",
    "    .plot(kind='bar', subplots=True, figsize=(20,20), layout=(2,2), rot=45);\n",
    "\n"
   ]
  },
  {
   "cell_type": "code",
   "execution_count": null,
   "metadata": {},
   "outputs": [],
   "source": [
    "df = df_document\\\n",
    "    .groupby(['year', 'publication'])\\\n",
    "    .agg(term_count=('term_count', 'sum'))\\\n",
    "    .reset_index()\\\n",
    "    .set_index(['year', 'publication'])\\\n",
    "    .unstack('publication')\n",
    "    \n",
    "df.plot(kind='bar', subplots=True, figsize=(25,25), layout=(2,2), rot=45);\n"
   ]
  },
  {
   "cell_type": "markdown",
   "execution_count": null,
   "metadata": {},
   "outputs": [],
   "source": [
    "### Print data sizes"
   ]
  },
  {
   "cell_type": "code",
   "execution_count": null,
   "metadata": {},
   "outputs": [],
   "source": [
    "\n",
    "print('Corpus metrics, source \"dtm1.rds\", arrays drm$i, drm$j, drm$v')\n",
    "print('  {} max document ID'.format(df_corpus.document_id.max()))\n",
    "print('  {} unique document ID'.format(df_corpus.document_id.unique().shape[0]))\n",
    "print('  {} max token ID'.format(df_corpus.token_id.max()))\n",
    "print('  {} unique token ID'.format(df_corpus.token_id.unique().shape[0]))\n",
    "\n",
    "print('Document metrics, source \"dtm1.rds\", arrays drm$dimnames[1]')\n",
    "print('  {} max ID'.format(df_document.index.max()))\n",
    "print('  {} unique ID'.format(df_document.index.unique().shape[0]))\n",
    "print('  {} unique names'.format(df_document.doc_id.unique().shape[0]))\n",
    "\n",
    "print('Vocabulary metrics, source \"dtm1.rds\", arrays drm$dimnames[2]')\n",
    "print('  {} max ID'.format(df_vocabulary.index.max()))\n",
    "print('  {} unique ID'.format(df_vocabulary.index.unique().shape[0]))\n",
    "print('  {} unique token'.format(df_vocabulary.token.unique().shape[0]))\n",
    "\n",
    "#df_document.groupby('doc_id').filter(lambda x: len(x) > 1).head()\n"
   ]
  },
  {
   "cell_type": "markdown",
   "execution_count": null,
   "metadata": {},
   "outputs": [],
   "source": [
    "### Create a smaller test corpus\n",
    "\n",
    "\n"
   ]
  },
  {
   "cell_type": "code",
   "execution_count": 22,
   "metadata": {},
   "outputs": [],
   "source": [
    "import pandas as pd\n",
    "import os\n",
    "\n",
    "corpus_folder = \"/home/roger/source/welfare_state_analytics/data/textblock_politisk_test\"\n",
    "\n",
    "corpus_dataset_filename = os.path.join(corpus_folder, \"corpus_dataset.zip\")\n",
    "document_dataset_filename = os.path.join(corpus_folder, \"document_dataset.zip\")\n",
    "censored_corpus_filename = os.path.join(corpus_folder, \"text1_utantext.zip\")\n",
    "meta_textblocks_filename = os.path.join(corpus_folder, \"meta_textblocks.zip\")\n",
    "\n",
    "#vocabulary_dataset_filename = os.path.join(corpus_folder, \"vocabulary_dataset.zip\")\n",
    "#sparse_matrix_filename = os.path.join(corpus_folder, \"corpus_sparse_doc_term_matrx.npz\")\n",
    "\n",
    "corpus = pd.read_csv(corpus_dataset_filename, compression='zip', header=0, sep=',', quotechar='\"', na_filter=False)\n",
    "corpus.columns = ['document_id', 'token_id', 'token_count']\n",
    "documents = pd.read_csv(document_dataset_filename, compression='zip', header=0, sep=',', quotechar='\"', na_filter=False)\n",
    "censured_text = pd.read_csv(censored_corpus_filename, compression='zip', header=0, sep=',', quotechar='\"', na_filter=False)\n",
    "meta_textblocks = pd.read_csv(meta_textblocks_filename, compression='zip', header=0, sep=',', quotechar='\"', na_filter=False)\n",
    "\n",
    "\n"
   ]
  },
  {
   "cell_type": "code",
   "execution_count": 27,
   "metadata": {},
   "outputs": [],
   "source": [
    "import os\n",
    "import csv\n",
    "target_folder = \"/home/roger/source/welfare_state_analytics/data/textblock_politisk_19590616\"\n",
    "\n",
    "corpus_dataset_filename = os.path.join(target_folder, \"corpus_dataset.zip\")\n",
    "document_dataset_filename = os.path.join(target_folder, \"document_dataset.zip\")\n",
    "meta_textblocks_filename = os.path.join(target_folder, \"meta_textblocks.zip\")\n",
    "\n",
    "if not os.path.isdir(target_folder):\n",
    "    os.mkdir(target_folder)\n",
    "\n",
    "censured_text2 = censured_text[censured_text.date.isin([\"1959-06-16\"])]\n",
    "censured_text2.columns = [\"document_id\",\"doc_id\",\"publication\",\"date\"]\n",
    "censured_text2.to_csv(\n",
    "    os.path.join(target_folder, \"text1_utantext.zip\"), compression='zip', index=False, header=[\"\",\"doc_id\",\"publication\",\"date\"], sep=',', quotechar='\"', quoting=csv.QUOTE_ALL)\n"
   ]
  },
  {
   "cell_type": "code",
   "execution_count": 30,
   "metadata": {},
   "outputs": [],
   "source": [
    "#document2 = documents[documents.Docs.isin(censured_text2.doc_id)].head()\n",
    "#documents[documents.Docs.isin(censured_text2.doc_id)].head()\n",
    "corpus2 = corpus[corpus.document_id.isin(censured_text2.document_id)].head()\n"
   ]
  },
  {
   "cell_type": "code",
   "execution_count": 67,
   "metadata": {},
   "outputs": [],
   "source": [
    "\n",
    "corpus_folder = \"/home/roger/source/welfare_state_analytics/data/textblock_politisk\"\n",
    "\n",
    "\n",
    "\n",
    "dtm, documents, id2token = corpus_data.load_dates_subset_as_dtm(corpus_folder, [\"1959-06-16\"])\n"
   ]
  },
  {
   "cell_type": "code",
   "execution_count": 66,
   "metadata": {},
   "outputs": [
    {
     "data": {
      "text/plain": "(24, 1570)"
     },
     "execution_count": 66,
     "metadata": {},
     "output_type": "execute_result"
    }
   ],
   "source": [
    "dtm.shape"
   ]
  },
  {
   "cell_type": "code",
   "execution_count": 57,
   "metadata": {},
   "outputs": [],
   "source": [
    "non_zero_token_ids = dtm.sum(axis=0).nonzero()[1].tolist()\n",
    "id2token2 = { i: id2token[k] for i,k in enumerate(dtm.sum(axis=0).nonzero()[1])}"
   ]
  },
  {
   "cell_type": "code",
   "execution_count": 58,
   "metadata": {},
   "outputs": [
    {
     "data": {
      "text/plain": "{0: '-årige',\n 1: '-mannagruppen',\n 2: '-och',\n 3: 'abbé',\n 4: 'acceptera',\n 5: 'accepterade',\n 6: 'adenauer',\n 7: 'adenauers',\n 8: 'affärsbanker',\n 9: 'affischerna',\n 10: 'äga',\n 11: 'ägde',\n 12: 'agrarpolitik',\n 13: 'agronom',\n 14: 'air',\n 15: 'åka',\n 16: 'ake',\n 17: 'aktiv',\n 18: 'ålägger',\n 19: 'albert',\n 20: 'ålder',\n 21: 'ali',\n 22: 'alldeles',\n 23: 'allmän',\n 24: 'allmänhet',\n 25: 'allmänna',\n 26: 'allmänt',\n 27: 'allra',\n 28: 'alltför',\n 29: 'allvarliga',\n 30: 'allvarligt',\n 31: 'alternativet',\n 32: 'ambassadör',\n 33: 'amerikansk',\n 34: 'anbud',\n 35: 'anda',\n 36: 'andre',\n 37: 'ändring',\n 38: 'angår',\n 39: 'angelägen',\n 40: 'angelägna',\n 41: 'angrepp',\n 42: 'anklagas',\n 43: 'änklingar',\n 44: 'anledning',\n 45: 'anmält',\n 46: 'annars',\n 47: 'anordnas',\n 48: 'anseende',\n 49: 'anser',\n 50: 'anses',\n 51: 'anslutning',\n 52: 'anställning',\n 53: 'ansvar',\n 54: 'ansvaret',\n 55: 'antagligen',\n 56: 'antagna',\n 57: 'antal',\n 58: 'antogs',\n 59: 'antyddes',\n 60: 'använda',\n 61: 'arbetare',\n 62: 'arbetarna',\n 63: 'arbetarparten',\n 64: 'arbetarparti',\n 65: 'arbetarpartiets',\n 66: 'arbetat',\n 67: 'arbete',\n 68: 'arbetet',\n 69: 'arbetsgivarsidan',\n 70: 'arbetssätt',\n 71: 'are',\n 72: 'åren',\n 73: 'ärende',\n 74: 'aronson',\n 75: 'års',\n 76: 'årsmöte',\n 77: 'art',\n 78: 'artikel',\n 79: 'artiklar',\n 80: 'aspekterna',\n 81: 'aspling',\n 82: 'åter',\n 83: 'återkom',\n 84: 'återstår',\n 85: 'återupptagandet',\n 86: 'återväxten',\n 87: 'åtgärder',\n 88: 'åtskilliga',\n 89: 'åtskilligt',\n 90: 'auktoritet',\n 91: 'avancera',\n 92: 'avblåsande',\n 93: 'avblåsas',\n 94: 'avbrytas',\n 95: 'äventyra',\n 96: 'äventyret',\n 97: 'äventyrs',\n 98: 'avgörande',\n 99: 'avgöranden',\n 100: 'avgörandena',\n 101: 'avgörandet',\n 102: 'avhandling',\n 103: 'avrättade',\n 104: 'avrättas',\n 105: 'avsade',\n 106: 'avseenden',\n 107: 'avser',\n 108: 'avsett',\n 109: 'avstående',\n 110: 'avstod',\n 111: 'avverkat',\n 112: 'avviker',\n 113: 'bakgrunden',\n 114: 'bakslag',\n 115: 'balansera',\n 116: 'bana',\n 117: 'bank',\n 118: 'banker',\n 119: 'bärande',\n 120: 'basis',\n 121: 'bästa',\n 122: 'bäste',\n 123: 'beckius',\n 124: 'bedja',\n 125: 'bedrivits',\n 126: 'befarar',\n 127: 'befinner',\n 128: 'befogat',\n 129: 'befogenheter',\n 130: 'begär',\n 131: 'begäret',\n 132: 'begränsad',\n 133: 'begripligt',\n 134: 'behålla',\n 135: 'behöll',\n 136: 'bekännelse',\n 137: 'bekant',\n 138: 'bekräftar',\n 139: 'bekräftelse',\n 140: 'bekväm',\n 141: 'belägenhet',\n 142: 'belägg',\n 143: 'benämningen',\n 144: 'ber',\n 145: 'berätta',\n 146: 'berlin',\n 147: 'beroende',\n 148: 'berörde',\n 149: 'besinning',\n 150: 'beskedlighet',\n 151: 'beskickning',\n 152: 'beskriva',\n 153: 'beslöt',\n 154: 'beslutet',\n 155: 'besök',\n 156: 'betänkandet',\n 157: 'betecknade',\n 158: 'betecknar',\n 159: 'betingade',\n 160: 'betonas',\n 161: 'beträffande',\n 162: 'betraktades',\n 163: 'betraktas',\n 164: 'betydelse',\n 165: 'betydligt',\n 166: 'bevakningen',\n 167: 'bevis',\n 168: 'bidragit',\n 169: 'bidrar',\n 170: 'bilateral',\n 171: 'bild',\n 172: 'bilda',\n 173: 'bilden',\n 174: 'billig',\n 175: 'birger',\n 176: 'biter',\n 177: 'bittersta',\n 178: 'blåsigt',\n 179: 'blåst',\n 180: 'bley',\n 181: 'blind',\n 182: 'blod',\n 183: 'blomgren',\n 184: 'blommiga',\n 185: 'blossat',\n 186: 'blygsamma',\n 187: 'böhm',\n 188: 'bohms',\n 189: 'bojkott',\n 190: 'bok',\n 191: 'bolagsstämman',\n 192: 'bön',\n 193: 'bönder',\n 194: 'bonn',\n 195: 'bör',\n 196: 'borde',\n 197: 'borgarrådet',\n 198: 'borgarrådsjobbet',\n 199: 'borgerliga',\n 200: 'börja',\n 201: 'började',\n 202: 'bortser',\n 203: 'bortses',\n 204: 'bortsett',\n 205: 'bostäder',\n 206: 'brådstörtat',\n 207: 'braksuccé',\n 208: 'brist',\n 209: 'britter',\n 210: 'britterna',\n 211: 'brittisk',\n 212: 'brittiska',\n 213: 'brittiskt',\n 214: 'bromma',\n 215: 'brott',\n 216: 'brottats',\n 217: 'brottmål',\n 218: 'brukar',\n 219: 'brukat',\n 220: 'brygga',\n 221: 'bundit',\n 222: 'bussar',\n 223: 'byggnadsfirma',\n 224: 'byrådirektör',\n 225: 'carlsson',\n 226: 'carlssons',\n 227: 'cdu',\n 228: 'cedervall',\n 229: 'centrala',\n 230: 'centrumpartiet',\n 231: 'chanserna',\n 232: 'cheferna',\n 233: 'citatet',\n 234: 'dagbladet',\n 235: 'dagens',\n 236: 'dageris',\n 237: 'dagsaktuella',\n 238: 'dåligt',\n 239: 'dam',\n 240: 'damerna',\n 241: 'dana',\n 242: 'danmark',\n 243: 'danmarks',\n 244: 'danskar',\n 245: 'danskt',\n 246: 'därav',\n 247: 'debatten',\n 248: 'debré',\n 249: 'debrés',\n 250: 'december',\n 251: 'decennier',\n 252: 'dekretera',\n 253: 'delar',\n 254: 'delegationerna',\n 255: 'delgivning',\n 256: 'delning',\n 257: 'deltog',\n 258: 'delvis',\n 259: 'demokratin',\n 260: 'demokratins',\n 261: 'demokratisk',\n 262: 'demokratiska',\n 263: 'dennas',\n 264: 'denne',\n 265: 'departementschef',\n 266: 'dessutom',\n 267: 'detaljer',\n 268: 'detsamma',\n 269: 'deutsche',\n 270: 'diisseldorf',\n 271: 'direkt',\n 272: 'direktör',\n 273: 'diskussion',\n 274: 'diskussionen',\n 275: 'diskussioner',\n 276: 'diskuterade',\n 277: 'diskuteras',\n 278: 'djup',\n 279: 'djupt',\n 280: 'döden',\n 281: 'dödläge',\n 282: 'dokument',\n 283: 'domäner',\n 284: 'dömde',\n 285: 'döms',\n 286: 'domstol',\n 287: 'domstolens',\n 288: 'dra',\n 289: 'dragit',\n 290: 'driva',\n 291: 'drivande',\n 292: 'dröja',\n 293: 'drömmar',\n 294: 'dtt',\n 295: 'dubbla',\n 296: 'dublin',\n 297: 'dugligt',\n 298: 'dyrare',\n 299: 'eamon',\n 300: 'efteråt',\n 301: 'eftermiddagens',\n 302: 'eftersläpande',\n 303: 'efterträda',\n 304: 'egen',\n 305: 'egenhändiga',\n 306: 'egentliga',\n 307: 'egentligen',\n 308: 'eket',\n 309: 'ekonomiska',\n 310: 'ekonomiske',\n 311: 'emass',\n 312: 'emot',\n 313: 'enda',\n 314: 'enhälligt',\n 315: 'enj',\n 316: 'enmansvalkretsar',\n 317: 'enskilda',\n 318: 'enstaka',\n 319: 'envist',\n 320: 'erbjuda',\n 321: 'erik',\n 322: 'erkände',\n 323: 'ersättas',\n 324: 'exempel',\n 325: 'exklusiv',\n 326: 'experterna',\n 327: 'express',\n 328: 'fackföreningsrörelsen',\n 329: 'fackliga',\n 330: 'fackman',\n 331: 'fåil',\n 332: 'fakta',\n 333: 'faktorer',\n 334: 'faktum',\n 335: 'fall',\n 336: 'fältet',\n 337: 'fånge',\n 338: 'fängelse',\n 339: 'fängelser',\n 340: 'fara',\n 341: 'färd',\n 342: 'färdiga',\n 343: 'färglös',\n 344: 'farliga',\n 345: 'farozonen',\n 346: 'fås',\n 347: 'fascismen',\n 348: 'fast',\n 349: 'fastän',\n 350: 'fastlåst',\n 351: 'fat',\n 352: 'fctf',\n 353: 'fel',\n 354: 'felaktigt',\n 355: 'femtiotalet',\n 356: 'fianna',\n 357: 'finansminister',\n 358: 'finansministeriet',\n 359: 'fine',\n 360: 'finna',\n 361: 'finner',\n 362: 'fixera',\n 363: 'fjol',\n 364: 'fläckfritt',\n 365: 'flertal',\n 366: 'flicka',\n 367: 'flödande',\n 368: 'flotta',\n 369: 'flugor',\n 370: 'flyg',\n 371: 'flykt',\n 372: 'född',\n 373: 'följa',\n 374: 'följden',\n 375: 'följt',\n 376: 'folk',\n 377: 'folket',\n 378: 'folkomröstning',\n 379: 'folkomröstningen',\n 380: 'folkpartiet',\n 381: 'folkvalda',\n 382: 'föll',\n 383: 'fonder',\n 384: 'for',\n 385: 'förbättra',\n 386: 'förbättrat',\n 387: 'förberedda',\n 388: 'förbereder',\n 389: 'förbi',\n 390: 'förbjöd',\n 391: 'förbjuder',\n 392: 'förbundets',\n 393: 'förbundsdagen',\n 394: 'förbundsdagsledamoten',\n 395: 'förbundskanslern',\n 396: 'fördärvade',\n 397: 'fördes',\n 398: 'förefaller',\n 399: 'förekom',\n 400: 'förenar',\n 401: 'förening',\n 402: 'föreslagit',\n 403: 'föreslogs',\n 404: 'förespråkare',\n 405: 'företer',\n 406: 'författningen',\n 407: 'förflutet',\n 408: 'förhandlingar',\n 409: 'förhandlingarna',\n 410: 'förklarade',\n 411: 'förklarats',\n 412: 'förläggas',\n 413: 'förlamning',\n 414: 'förlora',\n 415: 'form',\n 416: 'förmågan',\n 417: 'förmån',\n 418: 'förmått',\n 419: 'formella',\n 420: 'formen',\n 421: 'förmodar',\n 422: 'formuleringar',\n 423: 'förnuft',\n 424: 'försäkrade',\n 425: 'försämrad',\n 426: 'försiktigt',\n 427: 'förslag',\n 428: 'förslagen',\n 429: 'först',\n 430: 'förståelse',\n 431: 'försvinna',\n 432: 'förtegen',\n 433: 'fortfarande',\n 434: 'förtjänar',\n 435: 'förtjänstfulla',\n 436: 'fortlöpande',\n 437: 'förtroendeuppdrag',\n 438: 'förtröstansfull',\n 439: 'förts',\n 440: 'fortsätt',\n 441: 'fortsätta',\n 442: 'fortsätter',\n 443: 'fortsättningsvis',\n 444: 'förut',\n 445: 'förutsägelse',\n 446: 'förutsätta',\n 447: 'förutsättningarna',\n 448: 'förutsatts',\n 449: 'förutses',\n 450: 'förvissa',\n 451: 'förvisso',\n 452: 'förvränger',\n 453: 'fosterland',\n 454: 'fråga',\n 455: 'frågan',\n 456: 'frågar',\n 457: 'frågor',\n 458: 'framåt',\n 459: 'frambringa',\n 460: 'framhålla',\n 461: 'främst',\n 462: 'främsta',\n 463: 'framställa',\n 464: 'framstått',\n 465: 'främste',\n 466: 'framtidsperspektiven',\n 467: 'fran',\n 468: 'france',\n 469: 'franco',\n 470: 'frankrike',\n 471: 'franska',\n 472: 'franz',\n 473: 'fred',\n 474: 'freden',\n 475: 'fri',\n 476: 'friare',\n 477: 'frihandelsområde',\n 478: 'frihandelsområdet',\n 479: 'frimodig',\n 480: 'frisk',\n 481: 'friskt',\n 482: 'fristad',\n 483: 'fritt',\n 484: 'fruktan',\n 485: 'fulla',\n 486: 'fullt',\n 487: 'fungera',\n 488: 'fungerar',\n 489: 'funnit',\n 490: 'fusion',\n 491: 'fylla',\n 492: 'fyllt',\n 493: 'fysiska',\n 494: 'gael',\n 495: 'gällde',\n 496: 'gamla',\n 497: 'gamle',\n 498: 'gång',\n 499: 'gånger',\n 500: 'ganska',\n 501: 'garde',\n 502: 'gästerna',\n 503: 'gästroll',\n 504: 'gaulle',\n 505: 'gemensamma',\n 506: 'genera',\n 507: 'general',\n 508: 'generation',\n 509: 'geneve',\n 510: 'gensägelse',\n 511: 'gentemot',\n 512: 'ger',\n 513: 'gerhardsen',\n 514: 'gerstenmaier',\n 515: 'gestalt',\n 516: 'gift',\n 517: 'gjorda',\n 518: 'glädjande',\n 519: 'glöm',\n 520: 'gottgörelsen',\n 521: 'grad',\n 522: 'granskar',\n 523: 'granskas',\n 524: 'grunda',\n 525: 'grundval',\n 526: 'grupp',\n 527: 'gruppen',\n 528: 'gruppens',\n 529: 'grupper',\n 530: 'gunnar',\n 531: 'gustav',\n 532: 'håkansson',\n 533: 'hålla',\n 534: 'hållas',\n 535: 'håller',\n 536: 'hållit',\n 537: 'hållning',\n 538: 'hälsa',\n 539: 'halvt',\n 540: 'hamna',\n 541: 'hämtat',\n 542: 'hand',\n 543: 'handelsministern',\n 544: 'handelspartners',\n 545: 'handelsutbyte',\n 546: 'handelsutbytet',\n 547: 'händerna',\n 548: 'handla',\n 549: 'handlingslinjer',\n 550: 'hands',\n 551: 'hänsyn',\n 552: 'hänvisat',\n 553: 'håret',\n 554: 'härpå',\n 555: 'hårt',\n 556: 'härvidlag',\n 557: 'hassel',\n 558: 'hatt',\n 559: 'hattar',\n 560: 'hattarna',\n 561: 'hatten',\n 562: 'hattnyhete',\n 563: 'heckschers',\n 564: 'heinrich',\n 565: 'hela',\n 566: 'hemsk',\n 567: 'hemskt',\n 568: 'herman',\n 569: 'herr',\n 570: 'heter',\n 571: 'hetsiga',\n 572: 'heuss',\n 573: 'hindra',\n 574: 'hindrar',\n 575: 'historiens',\n 576: 'historiska',\n 577: 'historiskt',\n 578: 'hitlers',\n 579: 'hittills',\n 580: 'hittillsvarande',\n 581: 'hjälp',\n 582: 'höga',\n 583: 'högerkanten',\n 584: 'högerns',\n 585: 'högerpartiets',\n 586: 'högerungdomen',\n 587: 'högsta',\n 588: 'högt',\n 589: 'höjer',\n 590: 'hölls',\n 591: 'hoppas',\n 592: 'hör',\n 593: 'hört',\n 594: 'humanitära',\n 595: 'huvud',\n 596: 'huvudargumenten',\n 597: 'huvudsyftena',\n 598: 'hyllas',\n 599: 'hypotetiska',\n 600: 'hyst',\n 601: 'iakttagare',\n 602: 'ideer',\n 603: 'idel',\n 604: 'ifrån',\n 605: 'illa',\n 606: 'industrianläggningar',\n 607: 'inflytande',\n 608: 'infödd',\n 609: 'information',\n 610: 'informationskällor',\n 611: 'informativ',\n 612: 'informellt',\n 613: 'ingående',\n 614: 'ingår',\n 615: 'inge',\n 616: 'inie',\n 617: 'inkallelserna',\n 618: 'inkräkta',\n 619: 'inlägg',\n 620: 'innebära',\n 621: 'innehåller',\n 622: 'innehavet',\n 623: 'inre',\n 624: 'insats',\n 625: 'insatser',\n 626: 'inskärpa',\n 627: 'inspirerad',\n 628: 'inställning',\n 629: 'instämmande',\n 630: 'instanserna',\n 631: 'institutioner',\n 632: 'insyn',\n 633: 'intar',\n 634: 'intellektuella',\n 635: 'internationella',\n 636: 'internationellt',\n 637: 'inträdde',\n 638: 'intresse',\n 639: 'intressen',\n 640: 'intresset',\n 641: 'invända',\n 642: 'irlands',\n 643: 'irländsk',\n 644: 'irländske',\n 645: 'israel',\n 646: 'järnvägarna',\n 647: 'järnvägsmännen',\n 648: 'järnverk',\n 649: 'jeanne',\n 650: 'jordbruk',\n 651: 'jordbruket',\n 652: 'jordbruksminister',\n 653: 'jordbruksprodukterna',\n 654: 'jugoslaver',\n 655: 'jugoslavisk',\n 656: 'jugoslaviska',\n 657: 'juli',\n 658: 'juridik',\n 659: 'just',\n 660: 'kabinett',\n 661: 'kadarregimen',\n 662: 'kaliber',\n 663: 'källa',\n 664: 'kamitz',\n 665: 'kammaren',\n 666: 'kamp',\n 667: 'kända',\n 668: 'kandidera',\n 669: 'känsla',\n 670: 'kanslisekreterare',\n 671: 'kapital',\n 672: 'karaktär',\n 673: 'karaktären',\n 674: 'karaktäristik',\n 675: 'kardelj',\n 676: 'kardeljs',\n 677: 'karlstad',\n 678: 'kärnan',\n 679: 'karusell',\n 680: 'katolik',\n 681: 'katolska',\n 682: 'kaukasien',\n 683: 'kläder',\n 684: 'klänning',\n 685: 'klar',\n 686: 'klart',\n 687: 'koalitionsregering',\n 688: 'kolchoser',\n 689: 'kollegers',\n 690: 'komme',\n 691: 'kommentarerna',\n 692: 'kommentatorer',\n 693: 'kommittén',\n 694: 'kommitténs',\n 695: 'kommuniké',\n 696: 'kommunikén',\n 697: 'kompletterande',\n 698: 'kompromissernas',\n 699: 'kön',\n 700: 'konferens',\n 701: 'konferensen',\n 702: 'konfiskationerna',\n 703: 'konformism',\n 704: 'konfronteras',\n 705: 'konservativa',\n 706: 'konstatera',\n 707: 'konsumenternas',\n 708: 'kontentan',\n 709: 'kontinuiteten',\n 710: 'köpa',\n 711: 'kort',\n 712: 'kortfattad',\n 713: 'kosta',\n 714: 'kraft',\n 715: 'kraften',\n 716: 'krafter',\n 717: 'kraftigt',\n 718: 'kraftstation',\n 719: 'krav',\n 720: 'krävt',\n 721: 'kreml',\n 722: 'krets',\n 723: 'kretsar',\n 724: 'kriget',\n 725: 'kring',\n 726: 'kristina',\n 727: 'kristinas',\n 728: 'kristliga',\n 729: 'kristligt',\n 730: 'kritik',\n 731: 'kritikrätten',\n 732: 'kritiska',\n 733: 'kritiskt',\n 734: 'krone',\n 735: 'kröner',\n 736: 'kronor',\n 737: 'kul',\n 738: 'kurs',\n 739: 'kvinnligt',\n 740: 'kvinnoförening',\n 741: 'lades',\n 742: 'lagändring',\n 743: 'lagar',\n 744: 'läget',\n 745: 'lagliga',\n 746: 'lägret',\n 747: 'lagstadgad',\n 748: 'lagt',\n 749: 'länder',\n 750: 'länderna',\n 751: 'ländernas',\n 752: 'landets',\n 753: 'lång',\n 754: 'långa',\n 755: 'lange',\n 756: 'langsiktiga',\n 757: 'lantbruket',\n 758: 'lantbruksminister',\n 759: 'lantdagen',\n 760: 'läpparnas',\n 761: 'lapsus',\n 762: 'lär',\n 763: 'larm',\n 764: 'låt',\n 765: 'lätta',\n 766: 'ledande',\n 767: 'ledare',\n 768: 'ledd',\n 769: 'ledda',\n 770: 'ledning',\n 771: 'ledningen',\n 772: 'liåll',\n 773: 'lians',\n 774: 'liar',\n 775: 'lidanden',\n 776: 'liibke',\n 777: 'likaledes',\n 778: 'liknande',\n 779: 'liknöjdhet',\n 780: 'likriktning',\n 781: 'liksom',\n 782: 'lindholm',\n 783: 'litar',\n 784: 'liv',\n 785: 'livet',\n 786: 'livets',\n 787: 'livliga',\n 788: 'ljumma',\n 789: 'ljus',\n 790: 'ljuset',\n 791: 'lockande',\n 792: 'lockout',\n 793: 'lockouträtt',\n 794: 'löften',\n 795: 'lön',\n 796: 'löneförhöjningar',\n 797: 'löner',\n 798: 'lösning',\n 799: 'löst',\n 800: 'lovade',\n 801: 'lovprisningar',\n 802: 'lugnare',\n 803: 'lull',\n 804: 'magnitogorsk',\n 805: 'maj',\n 806: 'majoritet',\n 807: 'majoritetsval',\n 808: 'majoritetsvalens',\n 809: 'makt',\n 810: 'makten',\n 811: 'maktövertagande',\n 812: 'målmedvetenhet',\n 813: 'malmö',\n 814: 'mån',\n 815: 'män',\n 816: 'mana',\n 817: 'måna',\n 818: 'mandat',\n 819: 'mången',\n 820: 'manlighet',\n 821: 'mannekänguppvisning',\n 822: 'mannen',\n 823: 'människor',\n 824: 'människors',\n 825: 'märka',\n 826: 'märklig',\n 827: 'märktes',\n 828: 'maskineri',\n 829: 'massarresteringar',\n 830: 'masse',\n 831: 'mästare',\n 832: 'mästerverk',\n 833: 'maxe',\n 834: 'medarbetare',\n 835: 'medborgare',\n 836: 'medger',\n 837: 'medhjälpare',\n 838: 'medlem',\n 839: 'medlemskap',\n 840: 'megawatt',\n 841: 'menade',\n 842: 'meningsskiljaktigheterna',\n 843: 'meningsutbyte',\n 844: 'metro',\n 845: 'midjor',\n 846: 'mikojan',\n 847: 'milj',\n 848: 'ministär',\n 849: 'ministären',\n 850: 'ministermöte',\n 851: 'ministerplanet',\n 852: 'minnet',\n 853: 'minoritet',\n 854: 'minoriteten',\n 855: 'minska',\n 856: 'minskade',\n 857: 'minskas',\n 858: 'mission',\n 859: 'misslyckande',\n 860: 'missnöje',\n 861: 'misstro',\n 862: 'modell',\n 863: 'modernäringens',\n 864: 'modet',\n 865: 'mogen',\n 866: 'mogna',\n 867: 'möjlighet',\n 868: 'möjligheten',\n 869: 'möjligheter',\n 870: 'möjligheterna',\n 871: 'monde',\n 872: 'mönster',\n 873: 'morgonen',\n 874: 'mörka',\n 875: 'möte',\n 876: 'möter',\n 877: 'motiv',\n 878: 'motsatt',\n 879: 'motståndare',\n 880: 'motståndarna',\n 881: 'motsvarande',\n 882: 'mottagning',\n 883: 'museet',\n 884: 'mussolini',\n 885: 'nad',\n 886: 'nådde',\n 887: 'någonsin',\n 888: 'nämligen',\n 889: 'namn',\n 890: 'nämnda',\n 891: 'nämner',\n 892: 'namnet',\n 893: 'nära',\n 894: 'närmare',\n 895: 'närmast',\n 896: 'näsor',\n 897: 'näst',\n 898: 'nationalförsamlingens',\n 899: 'naturliga',\n 900: 'naturligtvis',\n 901: 'nazis',\n 902: 'nazismens',\n 903: 'nazisterna',\n 904: 'nederlag',\n 905: 'new',\n 906: 'ning',\n 907: 'nivå',\n 908: 'nödlösning',\n 909: 'nom',\n 910: 'nomgående',\n 911: 'nominera',\n 912: 'nordrhein-westfalen',\n 913: 'norske',\n 914: 'noterar',\n 915: 'november',\n 916: 'numera',\n 917: 'numren',\n 918: 'nuvarande',\n 919: 'nya',\n 920: 'nyckelland',\n 921: 'nyhetsförmedling',\n 922: 'nyligen',\n 923: 'nyss',\n 924: 'nytt',\n 925: 'obemärkta',\n 926: 'obetingat',\n 927: 'obetydligare',\n 928: 'obönhörligt',\n 929: 'observateur',\n 930: 'öch',\n 931: 'oddsen',\n 932: 'odiskutabelt',\n 933: 'oeec',\n 934: 'oerhört',\n 935: 'offentliga',\n 936: 'offer',\n 937: 'officiella',\n 938: 'ofullständig',\n 939: 'ogillar',\n 940: 'ohämmad',\n 941: 'ohyggligheter',\n 942: 'oinskränkt',\n 943: 'ökad',\n 944: 'ökning',\n 945: 'olagliga',\n 946: 'olsson',\n 947: 'olssons',\n 948: 'olusten',\n 949: 'olyckliga',\n 950: 'omänskliga',\n 951: 'ombudsman',\n 952: 'områden',\n 953: 'omröstningen',\n 954: 'omständigheter',\n 955: 'ömtålig',\n 956: 'onekligen',\n 957: 'önskar',\n 958: 'önskemål',\n 959: 'önskvärt',\n 960: 'opinion',\n 961: 'opinionen',\n 962: 'öppen',\n 963: 'oppositionella',\n 964: 'oppositionspartiet',\n 965: 'ordförande',\n 966: 'ordföranden',\n 967: 'ordinarie',\n 968: 'organ',\n 969: 'organen',\n 970: 'organisationen',\n 971: 'organisationer',\n 972: 'organisationerna',\n 973: 'orup',\n 974: 'oskyldiga',\n 975: 'österrike',\n 976: 'österrikisk',\n 977: 'otadligt',\n 978: 'ovanlig',\n 979: 'ovanstående',\n 980: 'ovärdiga',\n 981: 'ovederhäftig',\n 982: 'överblickas',\n 983: 'överläggningar',\n 984: 'överläggningarna',\n 985: 'överslätande',\n 986: 'överstigit',\n 987: 'överväganden',\n 988: 'övervintrade',\n 989: 'övriga',\n 990: 'övrigt',\n 991: 'pågick',\n 992: 'påpekar',\n 993: 'par',\n 994: 'paraden',\n 995: 'paris',\n 996: 'parlamentariska',\n 997: 'paroller',\n 998: 'parterna',\n 999: 'parti',\n ...}"
     },
     "execution_count": 58,
     "metadata": {},
     "output_type": "execute_result"
    }
   ],
   "source": [
    "id2token2"
   ]
  },
  {
   "cell_type": "code",
   "execution_count": null,
   "metadata": {},
   "outputs": [],
   "source": []
  }
 ],
 "metadata": {
  "kernelspec": {
   "display_name": "Python 3",
   "language": "python",
   "name": "python3"
  },
  "language_info": {
   "codemirror_mode": {
    "name": "ipython",
    "version": 3
   },
   "file_extension": ".py",
   "mimetype": "text/x-python",
   "name": "python",
   "nbconvert_exporter": "python",
   "pygments_lexer": "ipython3",
   "version": "3.7.5-final"
  }
 },
 "nbformat": 4,
 "nbformat_minor": 4
}
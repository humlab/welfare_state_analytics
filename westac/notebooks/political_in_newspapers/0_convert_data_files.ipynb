{
 "cells": [
  {
   "cell_type": "markdown",
   "metadata": {},
   "source": [
    "### Install R"
   ]
  },
  {
   "cell_type": "markdown",
   "metadata": {},
   "source": [
    "\n",
    "Install R\n",
    "\n",
    "```bash\n",
    "% ...\n",
    "```\n",
    "\n",
    "Install IRKernel\n",
    "\n",
    "```bash\n",
    "% sudo apt-get install libxml2-dev\n",
    "% sudo -i R \n",
    "> install.packages(\"xml2\")\n",
    "> install.packages(\"roxygen2\")\n",
    "> install.packages(\"rversions\")\n",
    "> devtools::install_github(\"IRkernel/IRkernel\")\n",
    "> Ctrl-D\n",
    "\n",
    "```\n",
    "\n",
    "```bash\n",
    "$ pipenv shell\n",
    "$ R\n",
    "> IRkernel::installspec()\n",
    "$\n",
    "```"
   ]
  },
  {
   "cell_type": "markdown",
   "metadata": {},
   "source": [
    "### Load corpus file"
   ]
  },
  {
   "cell_type": "code",
   "execution_count": null,
   "metadata": {},
   "outputs": [],
   "source": [
    "drm = readRDS(\"dtm1.rds\")\n",
    "str(drm)"
   ]
  },
  {
   "cell_type": "code",
   "execution_count": null,
   "metadata": {},
   "outputs": [],
   "source": [
    "document_dataset   = drm$dimnames[1]\n",
    "vocabulary_dataset = drm$dimnames[2]\n",
    "\n",
    "coo_dataset        = list()\n",
    "coo_dataset[[1]]   = drm$i\n",
    "coo_dataset[[2]]   = drm$j\n",
    "coo_dataset[[3]]   = drm$v\n",
    "\n",
    "write.csv(document_dataset, \"document_dataset.csv\", row.names = FALSE)\n",
    "write.csv(vocabulary_dataset, \"vocabulary_dataset.csv\", row.names = FALSE)\n",
    "write.csv(coo_dataset, \"corpus_dataset.csv\", row.names = FALSE)\n"
   ]
  },
  {
   "cell_type": "code",
   "execution_count": 9,
   "metadata": {},
   "outputs": [],
   "source": [
    "source_dataframe = readRDS(\"../../../data/textblock_politisk/text1_utantext.rds\")\n",
    "write.csv(source_dataframe,'../../../data/textblock_politisk/text1_utantext.csv')"
   ]
  },
  {
   "cell_type": "markdown",
   "metadata": {},
   "source": [
    "### Compress files\n",
    "\n",
    "```bash\n",
    "% zip corpus_dataset.zip corpus_dataset.csv\n",
    "% zip document_dataset.zip document_dataset.csv\n",
    "% zip vocabulary_dataset.zip vocabulary_dataset.csv\n",
    "% zip text1_utantext.zip text1_utantext.csv\n",
    "```"
   ]
  }
 ],
 "metadata": {
  "kernelspec": {
   "display_name": "R",
   "language": "R",
   "name": "ir"
  },
  "language_info": {
   "codemirror_mode": "r",
   "file_extension": ".r",
   "mimetype": "text/x-r-source",
   "name": "R",
   "pygments_lexer": "r",
   "version": "3.6.2"
  }
 },
 "nbformat": 4,
 "nbformat_minor": 4
}

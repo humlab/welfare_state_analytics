{
 "cells": [
  {
   "cell_type": "markdown",
   "metadata": {},
   "source": [
    "## Text Analysis - Topic Modelling\n",
    "### <span style='color: green'>SETUP </span> Prepare and Setup Notebook <span style='float: right; color: red'>MANDATORY</span>"
   ]
  },
  {
   "cell_type": "code",
   "execution_count": null,
   "metadata": {},
   "outputs": [],
   "source": [
    "import sys, os\n",
    "\n",
    "root_folder = os.path.abspath(os.path.join(globals()['_dh'][-1], \"../../..\"))\n",
    "\n",
    "sys.path = [ root_folder ] + sys.path\n",
    "\n",
    "#from beakerx import *\n",
    "#from beakerx.object import beakerx\n",
    "\n",
    "from IPython.display import display\n",
    "from IPython.core.interactiveshell import InteractiveShell\n",
    "InteractiveShell.ast_node_interactivity = \"all\"\n",
    "\n",
    "import westac.notebooks.political_in_newspapers.corpus_data as corpus_data\n",
    "import bokeh.plotting\n",
    "\n",
    "%matplotlib inline\n",
    "\n",
    "bokeh.plotting.output_notebook()\n",
    "\n",
    "corpus_folder = os.path.join(root_folder, \"data/textblock_politisk\")"
   ]
  },
  {
   "cell_type": "markdown",
   "metadata": {},
   "source": [
    "### <span style='color: green'>PREPARE</span> Load Topic Model <span style='float: right; color: red'>MANDATORY</span>"
   ]
  },
  {
   "cell_type": "code",
   "execution_count": null,
   "metadata": {},
   "outputs": [],
   "source": [
    "import westac.notebooks.political_in_newspapers.load_topic_model_gui as load_gui\n",
    "import text_analytic_tools.text_analysis.topic_model_container as topic_model_container\n",
    "import importlib\n",
    "_ = importlib.reload(load_gui)\n",
    "\n",
    "current_state = lambda: topic_model_container.TopicModelContainer.singleton()\n",
    "\n",
    "load_gui.display_gui(corpus_folder, current_state())\n",
    "#load_gui.load_model(corpus_folder, current_state(), 'test.4days')\n"
   ]
  },
  {
   "cell_type": "markdown",
   "metadata": {},
   "source": [
    "### <span style='color: green;'>VISUALIZE</span> Display Topic's Word Distribution as a Wordcloud<span style='color: red; float: right'>TRY IT</span>"
   ]
  },
  {
   "cell_type": "code",
   "execution_count": null,
   "metadata": {},
   "outputs": [],
   "source": [
    "import westac.notebooks.political_in_newspapers.topic_wordcloud_gui as wordcloud_gui\n",
    "\n",
    "try:\n",
    "    wordcloud_gui.display_gui(current_state())\n",
    "except Exception as ex:\n",
    "    print(ex)"
   ]
  },
  {
   "cell_type": "markdown",
   "metadata": {},
   "source": [
    "### <span style='color: green;'>VISUALIZE</span> Topic-Word Distribution<span style='color: red; float: right'>TRY IT</span>\n"
   ]
  },
  {
   "cell_type": "code",
   "execution_count": null,
   "metadata": {},
   "outputs": [],
   "source": [
    "import westac.notebooks.political_in_newspapers.topic_word_distribution_gui as topic_word_distribution_gui\n",
    "\n",
    "try:\n",
    "    topic_word_distribution_gui.display_gui(current_state())\n",
    "    #topic_word_distribution_gui.display_topic_tokens(current_state(), topic_id=0, n_words=100, output_format='Chart')\n",
    "except Exception as ex:\n",
    "    print(ex)"
   ]
  },
  {
   "cell_type": "markdown",
   "metadata": {},
   "source": [
    "### <span style='color: green;'>VISUALIZE</span> Topic Trends over Time<span style='color: red; float: right'>RUN</span>"
   ]
  },
  {
   "cell_type": "code",
   "execution_count": null,
   "metadata": {},
   "outputs": [],
   "source": [
    "import westac.notebooks.political_in_newspapers.topic_trends_gui as trends_gui\n",
    "import importlib\n",
    "_ = importlib.reload(trends_gui)\n",
    "\n",
    "try:\n",
    "    trends_gui.display_gui(current_state())\n",
    "    # trends_gui.display_topic_trend(current_state().compiled_data.document_topic_weights, topic_id=0, year=None, year_aggregate='mean', output_format='Table')\n",
    "except Exception as ex:\n",
    "    print(ex)"
   ]
  },
  {
   "cell_type": "markdown",
   "metadata": {},
   "source": [
    "### <span style='color: green;'>VISUALIZE</span> Publication Topic Network<span style='color: red; float: right'>TRY IT</span>\n",
    "The green nodes are documents, and blue nodes are topics. The edges (lines) indicates the strength of a topic in the connected document. The width of the edge is proportinal to the strength of the connection. Note that only edges with a strength above the certain threshold are displayed."
   ]
  },
  {
   "cell_type": "code",
   "execution_count": null,
   "metadata": {},
   "outputs": [],
   "source": [
    "import westac.notebooks.political_in_newspapers.publication_topic_network_gui as publication_topic_network_gui\n",
    "import importlib\n",
    "_ = importlib.reload(publication_topic_network_gui)\n",
    "\n",
    "try:\n",
    "    publication_topic_network_gui.display_gui(current_state())\n",
    "except Exception as ex:\n",
    "    print(ex)"
   ]
  },
  {
   "cell_type": "markdown",
   "metadata": {},
   "source": [
    "### <span style='color: green;'>VISUALIZE</span> Topic Trends Overview<span style='color: red; float: right'>TRY IT</span>\n",
    "\n",
    "- The topic shares  displayed as a scattered heatmap plot using gradient color based on topic's weight in document.\n",
    "- [Stanford’s Termite software](http://vis.stanford.edu/papers/termite) uses a similar visualization."
   ]
  },
  {
   "cell_type": "code",
   "execution_count": null,
   "metadata": {},
   "outputs": [],
   "source": [
    "import westac.notebooks.political_in_newspapers.topic_trends_overview_gui as overview_gui\n",
    "import importlib\n",
    "_ = importlib.reload(overview_gui)\n",
    "\n",
    "try:\n",
    "    overview_gui.display_gui(current_state())\n",
    "except ValueError as ex:\n",
    "    print(ex)"
   ]
  },
  {
   "cell_type": "markdown",
   "metadata": {},
   "source": [
    "### <span style='color: green;'>VISUALIZE</span> WORK IN PROGRESS!!! Topic Cooccurrence<span style='color: red; float: right'>TRY IT</span>\n",
    "\n",
    "Computes weighted graph of topics co-occurring in the same document. Topics are defined as co-occurring if they both exists  in the same document both having weights above threshold. Weight are number of co-occurrences (binary yes or no). Node size reflects topic proportions over the entire corpus (normalized document) length, and are computed in accordance to how node sizes are computed in LDAvis."
   ]
  },
  {
   "cell_type": "code",
   "execution_count": null,
   "metadata": {
    "code_folding": [
     0
    ]
   },
   "outputs": [],
   "source": [
    "import westac.notebooks.political_in_newspapers.topic_co_occurrence_gui as co_occurrence_gui\n",
    "import westac.common.utility as utility\n",
    "import text_analytic_tools.common.network.plot_utility as plot_utility\n",
    "import importlib\n",
    "_ = importlib.reload(co_occurrence_gui)\n",
    "_ = importlib.reload(plot_utility)\n",
    "_ = importlib.reload(utility)\n",
    "   \n",
    "try:\n",
    "    co_occurrence_gui.display_gui(current_state(), documents)\n",
    "except Exception as ex:\n",
    "    print(ex)"
   ]
  },
  {
   "cell_type": "code",
   "execution_count": null,
   "metadata": {},
   "outputs": [],
   "source": []
  }
 ],
 "metadata": {
  "file_extension": ".py",
  "kernelspec": {
   "display_name": "Python 3.7.5 64-bit ('text_analytic_tools': pipenv)",
   "language": "python",
   "name": "python37564bittextanalytictoolspipenv8c3d4c9c6f39484cb74f0ad2d777602d"
  },
  "language_info": {
   "codemirror_mode": {
    "name": "ipython",
    "version": 3
   },
   "file_extension": ".py",
   "mimetype": "text/x-python",
   "name": "python",
   "nbconvert_exporter": "python",
   "pygments_lexer": "ipython3",
   "version": "3.7.5"
  },
  "mimetype": "text/x-python",
  "name": "python",
  "npconvert_exporter": "python",
  "pygments_lexer": "ipython3",
  "version": 3
 },
 "nbformat": 4,
 "nbformat_minor": 4
}

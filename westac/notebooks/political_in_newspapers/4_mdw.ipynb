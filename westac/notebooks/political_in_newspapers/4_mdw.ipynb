{
 "cells": [
  {
   "cell_type": "markdown",
   "metadata": {},
   "source": [
    "## Most Discriminating Terms"
   ]
  },
  {
   "cell_type": "code",
   "execution_count": 2,
   "metadata": {},
   "outputs": [
    {
     "output_type": "stream",
     "name": "stdout",
     "text": "The autoreload extension is already loaded. To reload it, use:\n  %reload_ext autoreload\n"
    },
    {
     "output_type": "display_data",
     "data": {
      "text/plain": "VBox(children=(HBox(children=(VBox(children=(IntRangeSlider(value=(1945, 1949), description='Period', layout=L…",
      "application/vnd.jupyter.widget-view+json": {
       "version_major": 2,
       "version_minor": 0,
       "model_id": "f53f26eea0ab408fa28140de0bcb1d75"
      }
     },
     "metadata": {}
    }
   ],
   "source": [
    "%load_ext autoreload\n",
    "%autoreload 2\n",
    "\n",
    "from beakerx import *\n",
    "from beakerx.object import beakerx\n",
    "from IPython.display import display\n",
    "\n",
    "import sys, os\n",
    "\n",
    "def get_root_folder():\n",
    "    parts = os.getcwd().split(os.path.sep)\n",
    "    parts = parts[:parts.index('welfare_state_analytics')+1]\n",
    "    return os.path.join('/', *parts)\n",
    "\n",
    "if os.environ.get('JUPYTER_IMAGE_SPEC', '') == 'westac_lab':\n",
    "    root_folder = '/home/jovyan/welfare_state_analytics'\n",
    "    corpus_folder = '/data/westac/textblock_politisk'\n",
    "else:\n",
    "    root_folder = get_root_folder()\n",
    "    corpus_folder = os.path.join(root_folder, \"data/textblock_politisk\")\n",
    "\n",
    "sys.path = [ root_folder ] + sys.path\n",
    "\n",
    "import westac.corpus.vectorized_corpus as vectorized_corpus\n",
    "import westac.notebooks.political_in_newspapers.corpus_data as corpus_data\n",
    "from   westac.notebooks.political_in_newspapers.notebook_gui.mdw_gui import display_gui\n",
    "\n",
    "def load_vectorized_corpus(corpus_folder):\n",
    "    bag_term_matrix, document_index, id2token = corpus_data.load_as_dtm2(corpus_folder, [1, 3])\n",
    "    token2id = { v: k for k,v in id2token.items() }\n",
    "    v_corpus = vectorized_corpus.VectorizedCorpus(bag_term_matrix, token2id, document_index)\n",
    "    return v_corpus\n",
    "    \n",
    "v_corpus = load_vectorized_corpus(corpus_folder)\n",
    "\n",
    "display_gui(v_corpus, v_corpus.document_index);\n"
   ]
  },
  {
   "cell_type": "code",
   "execution_count": null,
   "metadata": {},
   "outputs": [],
   "source": []
  }
 ],
 "metadata": {
  "kernelspec": {
   "display_name": "Python 3",
   "language": "python",
   "name": "python3"
  },
  "language_info": {
   "codemirror_mode": {
    "name": "ipython",
    "version": 3
   },
   "file_extension": ".py",
   "mimetype": "text/x-python",
   "name": "python",
   "nbconvert_exporter": "python",
   "pygments_lexer": "ipython3",
   "version": "3.7.5-final"
  }
 },
 "nbformat": 4,
 "nbformat_minor": 4
}
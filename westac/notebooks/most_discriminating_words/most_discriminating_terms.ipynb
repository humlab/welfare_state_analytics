{
 "cells": [
  {
   "cell_type": "markdown",
   "metadata": {},
   "source": [
    "## Most Discriminating Terms"
   ]
  },
  {
   "cell_type": "code",
   "execution_count": 1,
   "metadata": {},
   "outputs": [],
   "source": [
    "%load_ext autoreload\n",
    "%autoreload 2\n",
    "\n",
    "import sys, os\n",
    "\n",
    "root_folder = os.path.abspath(os.path.join(globals()['_dh'][-1], \"../../..\"))\n",
    "corpus_folder = os.path.join(root_folder, \"output\")\n",
    "sys.path = [ root_folder ] + sys.path\n",
    "\n",
    "from beakerx import *\n",
    "from beakerx.object import beakerx\n",
    "from IPython.display import display\n",
    "\n",
    "import ipywidgets\n",
    "import westac.corpus.vectorized_corpus as vectorized_corpus\n"
   ]
  },
  {
   "cell_type": "code",
   "execution_count": 2,
   "metadata": {},
   "outputs": [],
   "source": [
    "v_corpus = vectorized_corpus.VectorizedCorpus\\\n",
    "    .load('SOU_1945-1989_NN+VB+JJ_lemma_L0_+N_+S', corpus_folder)\\\n",
    "    .slice_by_n_count(10)\\\n",
    "    .slice_by_n_top(500000)"
   ]
  },
  {
   "cell_type": "code",
   "execution_count": 3,
   "metadata": {},
   "outputs": [
    {
     "data": {
      "application/vnd.jupyter.widget-view+json": {
       "model_id": "1f652f5b5eab456dbd5cd7b0eabd701a",
       "version_major": 2,
       "version_minor": 0
      },
      "text/plain": [
       "VBox(children=(HBox(children=(VBox(children=(IntRangeSlider(value=(1945, 1949), description='Period', layout=L…"
      ]
     },
     "metadata": {},
     "output_type": "display_data"
    },
    {
     "data": {
      "text/plain": [
       "namespace(compute=Button(button_style='success', description='Compute', layout=Layout(width='120px'), style=ButtonStyle()), max_n_terms=IntSlider(value=2000, description='#top', max=2000, min=1), output=Output(layout=Layout(border='1px solid black')), period1=IntRangeSlider(value=(1945, 1949), description='Period', layout=Layout(width='250px'), max=1989, min=1945), period2=IntRangeSlider(value=(1985, 1989), description='Period', layout=Layout(width='250px'), max=1989, min=1945), progress=IntProgress(value=0, layout=Layout(width='90%'), max=5), top_n_terms=IntSlider(value=100, description='#terms', max=1000, min=10))"
      ]
     },
     "execution_count": 3,
     "metadata": {},
     "output_type": "execute_result"
    }
   ],
   "source": [
    "from westac.notebooks.most_discriminating_words.most_discriminating_terms_gui import display_gui\n",
    "from westac.notebooks.most_discriminating_words.most_discriminating_terms import compute_most_discriminating_terms\n",
    "\n",
    "\n",
    "display_gui(v_corpus, v_corpus.document_index, compute_callback=compute_most_discriminating_terms, display_callback=display_gui)\n"
   ]
  },
  {
   "cell_type": "code",
   "execution_count": 4,
   "metadata": {},
   "outputs": [
    {
     "name": "stdout",
     "output_type": "stream",
     "text": [
      "Writing mdw_runner.py\n"
     ]
    }
   ],
   "source": [
    "%%file mdw_runner.py\n",
    "import sys, os\n",
    "\n",
    "root_folder = \"/Users/frno0044/Documents/Kod/welfare_state_analytics\"\n",
    "corpus_folder = os.path.join(root_folder, \"output\")'\n",
    "sys.path = [ root_folder ] + sys.path\n",
    "\n",
    "from beakerx import *\n",
    "from beakerx.object import beakerx\n",
    "from IPython.display import display\n",
    "\n",
    "import ipywidgets\n",
    "import westac.corpus.vectorized_corpus as vectorized_corpus\n",
    "\n",
    "from westac.notebooks.most_discriminating_words.most_discriminating_terms_gui import display_gui\n",
    "from westac.notebooks.most_discriminating_words.most_discriminating_terms import compute_most_discriminating_terms\n",
    "\n",
    "v_corpus = vectorized_corpus.VectorizedCorpus\\\n",
    "    .load('SOU_1945-1989_NN+VB+JJ_lemma_L0_+N_+S', corpus_folder)\\\n",
    "    .slice_by_n_count(10)\\\n",
    "    .slice_by_n_top(500000)\n",
    "\n",
    "df = compute_most_discriminating_terms(\n",
    "    v_corpus,\n",
    "    v_corpus.document_index,\n",
    "    top_n_terms=250,\n",
    "    max_n_terms=2000,\n",
    "    period1=(1945, 1967),\n",
    "    period2=(1968, 1989)\n",
    ")\n",
    "\n",
    "df.to_excel('sou_mdw_45-67_vs_68-89.xlsx')\n",
    "\n",
    "df = compute_most_discriminating_terms(\n",
    "    v_corpus,\n",
    "    v_corpus.document_index,\n",
    "    top_n_terms=250,\n",
    "    max_n_terms=2000,\n",
    "    period1=(1945, 1967),\n",
    "    period2=(1968, 1989)\n",
    ")\n",
    "\n",
    "df.to_excel('sou_mdw_45-67_vs_68-89.xlsx')\n"
   ]
  },
  {
   "cell_type": "code",
   "execution_count": null,
   "metadata": {},
   "outputs": [],
   "source": []
  }
 ],
 "metadata": {
  "kernelspec": {
   "display_name": "Python 3",
   "language": "python",
   "name": "python3"
  },
  "language_info": {
   "codemirror_mode": {
    "name": "ipython",
    "version": 3
   },
   "file_extension": ".py",
   "mimetype": "text/x-python",
   "name": "python",
   "nbconvert_exporter": "python",
   "pygments_lexer": "ipython3",
   "version": "3.7.5"
  }
 },
 "nbformat": 4,
 "nbformat_minor": 4
}

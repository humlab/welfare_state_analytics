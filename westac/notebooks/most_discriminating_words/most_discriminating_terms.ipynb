{
 "cells": [
  {
   "cell_type": "markdown",
   "metadata": {},
   "source": [
    "## Word Significance using TF-IDF"
   ]
  },
  {
   "cell_type": "code",
   "execution_count": 12,
   "metadata": {},
   "outputs": [
    {
     "name": "stdout",
     "output_type": "stream",
     "text": [
      "The autoreload extension is already loaded. To reload it, use:\n",
      "  %reload_ext autoreload\n"
     ]
    }
   ],
   "source": [
    "%load_ext autoreload\n",
    "%autoreload 2\n",
    "\n",
    "import sys, os\n",
    "\n",
    "root_folder = os.path.abspath(os.path.join(globals()['_dh'][-1], \"../../..\"))\n",
    "corpus_folder = os.path.join(root_folder, \"output\")\n",
    "sys.path = [ root_folder ] + sys.path\n",
    "\n",
    "from beakerx import *\n",
    "from beakerx.object import beakerx\n",
    "from IPython.display import display\n",
    "\n",
    "import ipywidgets\n",
    "import westac.corpus.vectorized_corpus as vectorized_corpus\n"
   ]
  },
  {
   "cell_type": "code",
   "execution_count": 13,
   "metadata": {},
   "outputs": [],
   "source": [
    "v_corpus = vectorized_corpus.VectorizedCorpus\\\n",
    "    .load('SOU_1945-1989_NN+VB+JJ_lemma_L0_+N_+S', corpus_folder)\\\n",
    "    .slice_by_n_count(10)\\\n",
    "    .slice_by_n_top(500000)"
   ]
  },
  {
   "cell_type": "code",
   "execution_count": 14,
   "metadata": {},
   "outputs": [
    {
     "ename": "ModuleNotFoundError",
     "evalue": "No module named 'westac.notebooks.most_discriminationg_terms'",
     "output_type": "error",
     "traceback": [
      "\u001b[0;31m---------------------------------------------------------------------------\u001b[0m",
      "\u001b[0;31mModuleNotFoundError\u001b[0m                       Traceback (most recent call last)",
      "\u001b[0;32m<ipython-input-14-5cf2fe6f2ffb>\u001b[0m in \u001b[0;36m<module>\u001b[0;34m\u001b[0m\n\u001b[0;32m----> 1\u001b[0;31m \u001b[0;32mfrom\u001b[0m \u001b[0mwestac\u001b[0m\u001b[0;34m.\u001b[0m\u001b[0mnotebooks\u001b[0m\u001b[0;34m.\u001b[0m\u001b[0mmost_discriminationg_terms\u001b[0m\u001b[0;34m.\u001b[0m\u001b[0mmost_discriminationg_terms_gui\u001b[0m \u001b[0;32mimport\u001b[0m \u001b[0mdisplay_gui\u001b[0m\u001b[0;34m\u001b[0m\u001b[0;34m\u001b[0m\u001b[0m\n\u001b[0m\u001b[1;32m      2\u001b[0m \u001b[0;32mfrom\u001b[0m \u001b[0mwestac\u001b[0m\u001b[0;34m.\u001b[0m\u001b[0mnotebooks\u001b[0m\u001b[0;34m.\u001b[0m\u001b[0mmost_discriminationg_terms\u001b[0m\u001b[0;34m.\u001b[0m\u001b[0mmost_discriminationg_terms\u001b[0m \u001b[0;32mimport\u001b[0m \u001b[0mcompute_most_discriminating_terms\u001b[0m\u001b[0;34m\u001b[0m\u001b[0;34m\u001b[0m\u001b[0m\n\u001b[1;32m      3\u001b[0m \u001b[0;34m\u001b[0m\u001b[0m\n\u001b[1;32m      4\u001b[0m \u001b[0;34m\u001b[0m\u001b[0m\n\u001b[1;32m      5\u001b[0m \u001b[0mdisplay_gui\u001b[0m\u001b[0;34m(\u001b[0m\u001b[0mv_corpus\u001b[0m\u001b[0;34m,\u001b[0m \u001b[0mv_corpus\u001b[0m\u001b[0;34m.\u001b[0m\u001b[0mdocument_index\u001b[0m\u001b[0;34m,\u001b[0m \u001b[0mcompute_callback\u001b[0m\u001b[0;34m=\u001b[0m\u001b[0mcompute_most_discriminating_terms\u001b[0m\u001b[0;34m)\u001b[0m\u001b[0;34m\u001b[0m\u001b[0;34m\u001b[0m\u001b[0m\n",
      "\u001b[0;31mModuleNotFoundError\u001b[0m: No module named 'westac.notebooks.most_discriminationg_terms'"
     ]
    }
   ],
   "source": [
    "from westac.notebooks.most_discriminationg_terms.most_discriminationg_terms_gui import display_gui\n",
    "from westac.notebooks.most_discriminationg_terms.most_discriminationg_terms import compute_most_discriminating_terms\n",
    "\n",
    "\n",
    "display_gui(v_corpus, v_corpus.document_index, compute_callback=compute_most_discriminating_terms)\n"
   ]
  },
  {
   "cell_type": "code",
   "execution_count": null,
   "metadata": {},
   "outputs": [],
   "source": []
  }
 ],
 "metadata": {
  "kernelspec": {
   "display_name": "Python 3",
   "language": "python",
   "name": "python3"
  },
  "language_info": {
   "codemirror_mode": {
    "name": "ipython",
    "version": 3
   },
   "file_extension": ".py",
   "mimetype": "text/x-python",
   "name": "python",
   "nbconvert_exporter": "python",
   "pygments_lexer": "ipython3",
   "version": "3.7.5"
  }
 },
 "nbformat": 4,
 "nbformat_minor": 4
}
